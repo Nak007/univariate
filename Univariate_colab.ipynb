{
 "cells": [
  {
   "cell_type": "markdown",
   "metadata": {},
   "source": [
    "### Google.colab\n",
    "Only execute this cell when use on google colab platform (colab)."
   ]
  },
  {
   "cell_type": "markdown",
   "metadata": {},
   "source": [
    "<table class=\"tfo-notebook-buttons\" align=\"left\">\n",
    "  <td>\n",
    "    <a target=\"_blank\" href=\"https://github.com/Nak007/univariate\">\n",
    "    <img src=\"https://www.tensorflow.org/images/GitHub-Mark-32px.png\" />View source on GitHub</a>\n",
    "  </td>\n",
    "</table>"
   ]
  },
  {
   "cell_type": "code",
   "execution_count": null,
   "metadata": {},
   "outputs": [],
   "source": [
    "# Mount with google drive.\n",
    "from google.colab import drive\n",
    "drive.mount('/content/dirve')\n",
    "\n",
    "# Import other libraries required.\n",
    "!git clone 'http://github.com/Nak007/univariate.git'"
   ]
  },
  {
   "cell_type": "markdown",
   "metadata": {},
   "source": [
    "## Example"
   ]
  },
  {
   "cell_type": "code",
   "execution_count": 1,
   "metadata": {},
   "outputs": [],
   "source": [
    "from sklearn.datasets import load_breast_cancer\n",
    "import pandas as pd, numpy as np, sys\n",
    "from scipy import stats\n",
    "import matplotlib.pyplot as plt\n",
    "\n",
    "sys.path.append('/content/univariate')\n",
    "from Univariate import *"
   ]
  },
  {
   "cell_type": "markdown",
   "metadata": {},
   "source": [
    "**<font size=5 color='blue'> UnivariateOutliers </font>**\n",
    "\n",
    "---\n",
    "\n",
    "`UnivariateOutliers` determines univariate outliers within one variable at a time. Any identified outlier, is capped to the lower/upper value."
   ]
  },
  {
   "cell_type": "markdown",
   "metadata": {},
   "source": [
    "Use the breast cancer wisconsin dataset (`load_breast_cancer`)."
   ]
  },
  {
   "cell_type": "code",
   "execution_count": 2,
   "metadata": {},
   "outputs": [],
   "source": [
    "X, y = load_breast_cancer(return_X_y=True)\n",
    "cols = load_breast_cancer().feature_names"
   ]
  },
  {
   "cell_type": "markdown",
   "metadata": {},
   "source": [
    "Randomly replace numerical value with `np.nan`."
   ]
  },
  {
   "cell_type": "code",
   "execution_count": 3,
   "metadata": {},
   "outputs": [],
   "source": [
    "np.random.seed(0)\n",
    "NaN = np.random.random(X.shape)<0.1\n",
    "X = pd.DataFrame(np.where(NaN, np.nan, X), columns=cols).iloc[:,:5]"
   ]
  },
  {
   "cell_type": "markdown",
   "metadata": {},
   "source": [
    "Add non-numerical and **NaN** fields"
   ]
  },
  {
   "cell_type": "code",
   "execution_count": 4,
   "metadata": {},
   "outputs": [],
   "source": [
    "X['only_str'], X['all_nan'] = 'only_str', np.nan"
   ]
  },
  {
   "cell_type": "markdown",
   "metadata": {},
   "source": [
    "Univariate outlier detection methods\n",
    "- \"**pct**\"   : Percentile\n",
    "- \"**sigma**\" : Z-score\n",
    "- \"**iqr**\"   : Interquartile range \n",
    "- \"**grubb**\" : Grubbs' test (Grubbs 1969 and Stefansky 1972)\n",
    "- \"**gesd**\"  : Generalized Extreme Studentized Deviate\n",
    "- \"**mad**\"   : Median Absolute Deviation\n",
    "- \"**mae**\"   : Mean Absolute Error"
   ]
  },
  {
   "cell_type": "code",
   "execution_count": 5,
   "metadata": {},
   "outputs": [
    {
     "name": "stderr",
     "output_type": "stream",
     "text": [
      "/Users/administrator/Desktop/Python Projects/++ mtest ++/Univariate.py:1056: UserWarning: Data variables must be numerical. List of non-numerical variables: ['only_str']\n",
      "  warn(f'Data variables must be numerical. '\n",
      "/Users/administrator/Desktop/Python Projects/++ mtest ++/Univariate.py:1065: UserWarning: Data variables must contain numerical values more than 10 records. List of invalid variables: ['all_nan']\n",
      "  warn(f'Data variables must contain numerical '\n"
     ]
    }
   ],
   "source": [
    "model = UnivariateOutliers().fit(X)"
   ]
  },
  {
   "cell_type": "markdown",
   "metadata": {},
   "source": [
    "Excluded variable(s)"
   ]
  },
  {
   "cell_type": "code",
   "execution_count": 6,
   "metadata": {},
   "outputs": [
    {
     "data": {
      "text/plain": [
       "{'non_numeric': ['only_str'], 'min_numeric': ['all_nan']}"
      ]
     },
     "execution_count": 6,
     "metadata": {},
     "output_type": "execute_result"
    }
   ],
   "source": [
    "model.exclude"
   ]
  },
  {
   "cell_type": "markdown",
   "metadata": {},
   "source": [
    "Summary of results"
   ]
  },
  {
   "cell_type": "code",
   "execution_count": 7,
   "metadata": {
    "scrolled": true
   },
   "outputs": [
    {
     "data": {
      "text/html": [
       "<div>\n",
       "<style scoped>\n",
       "    .dataframe tbody tr th:only-of-type {\n",
       "        vertical-align: middle;\n",
       "    }\n",
       "\n",
       "    .dataframe tbody tr th {\n",
       "        vertical-align: top;\n",
       "    }\n",
       "\n",
       "    .dataframe thead th {\n",
       "        text-align: right;\n",
       "    }\n",
       "</style>\n",
       "<table border=\"1\" class=\"dataframe\">\n",
       "  <thead>\n",
       "    <tr style=\"text-align: right;\">\n",
       "      <th></th>\n",
       "      <th>variable</th>\n",
       "      <th>lower</th>\n",
       "      <th>upper</th>\n",
       "      <th>n_lower</th>\n",
       "      <th>n_upper</th>\n",
       "      <th>n_outlier</th>\n",
       "      <th>n_notnan</th>\n",
       "      <th>p_outlier</th>\n",
       "    </tr>\n",
       "  </thead>\n",
       "  <tbody>\n",
       "    <tr>\n",
       "      <th>0</th>\n",
       "      <td>mean radius</td>\n",
       "      <td>5.575586</td>\n",
       "      <td>24.727001</td>\n",
       "      <td>0</td>\n",
       "      <td>5</td>\n",
       "      <td>5</td>\n",
       "      <td>510</td>\n",
       "      <td>0.009804</td>\n",
       "    </tr>\n",
       "    <tr>\n",
       "      <th>1</th>\n",
       "      <td>mean texture</td>\n",
       "      <td>8.188421</td>\n",
       "      <td>32.457089</td>\n",
       "      <td>0</td>\n",
       "      <td>3</td>\n",
       "      <td>3</td>\n",
       "      <td>513</td>\n",
       "      <td>0.005848</td>\n",
       "    </tr>\n",
       "    <tr>\n",
       "      <th>2</th>\n",
       "      <td>mean area</td>\n",
       "      <td>-90.415776</td>\n",
       "      <td>1669.944390</td>\n",
       "      <td>0</td>\n",
       "      <td>12</td>\n",
       "      <td>12</td>\n",
       "      <td>506</td>\n",
       "      <td>0.023715</td>\n",
       "    </tr>\n",
       "    <tr>\n",
       "      <th>3</th>\n",
       "      <td>mean smoothness</td>\n",
       "      <td>0.054784</td>\n",
       "      <td>0.140480</td>\n",
       "      <td>1</td>\n",
       "      <td>3</td>\n",
       "      <td>4</td>\n",
       "      <td>498</td>\n",
       "      <td>0.008032</td>\n",
       "    </tr>\n",
       "    <tr>\n",
       "      <th>4</th>\n",
       "      <td>mean perimeter</td>\n",
       "      <td>35.200213</td>\n",
       "      <td>161.368201</td>\n",
       "      <td>0</td>\n",
       "      <td>5</td>\n",
       "      <td>5</td>\n",
       "      <td>505</td>\n",
       "      <td>0.009901</td>\n",
       "    </tr>\n",
       "  </tbody>\n",
       "</table>\n",
       "</div>"
      ],
      "text/plain": [
       "          variable      lower        upper  n_lower  n_upper  n_outlier  \\\n",
       "0      mean radius   5.575586    24.727001        0        5          5   \n",
       "1     mean texture   8.188421    32.457089        0        3          3   \n",
       "2        mean area -90.415776  1669.944390        0       12         12   \n",
       "3  mean smoothness   0.054784     0.140480        1        3          4   \n",
       "4   mean perimeter  35.200213   161.368201        0        5          5   \n",
       "\n",
       "   n_notnan  p_outlier  \n",
       "0       510   0.009804  \n",
       "1       513   0.005848  \n",
       "2       506   0.023715  \n",
       "3       498   0.008032  \n",
       "4       505   0.009901  "
      ]
     },
     "execution_count": 7,
     "metadata": {},
     "output_type": "execute_result"
    }
   ],
   "source": [
    "model.info"
   ]
  },
  {
   "cell_type": "code",
   "execution_count": 8,
   "metadata": {},
   "outputs": [
    {
     "data": {
      "text/html": [
       "<div>\n",
       "<style scoped>\n",
       "    .dataframe tbody tr th:only-of-type {\n",
       "        vertical-align: middle;\n",
       "    }\n",
       "\n",
       "    .dataframe tbody tr th {\n",
       "        vertical-align: top;\n",
       "    }\n",
       "\n",
       "    .dataframe thead th {\n",
       "        text-align: right;\n",
       "    }\n",
       "</style>\n",
       "<table border=\"1\" class=\"dataframe\">\n",
       "  <thead>\n",
       "    <tr style=\"text-align: right;\">\n",
       "      <th></th>\n",
       "      <th>mean radius</th>\n",
       "      <th>mean texture</th>\n",
       "      <th>mean area</th>\n",
       "      <th>mean smoothness</th>\n",
       "      <th>mean perimeter</th>\n",
       "    </tr>\n",
       "  </thead>\n",
       "  <tbody>\n",
       "    <tr>\n",
       "      <th>0</th>\n",
       "      <td>17.99</td>\n",
       "      <td>10.38</td>\n",
       "      <td>1001.0</td>\n",
       "      <td>0.11840</td>\n",
       "      <td>122.80</td>\n",
       "    </tr>\n",
       "    <tr>\n",
       "      <th>1</th>\n",
       "      <td>20.57</td>\n",
       "      <td>17.77</td>\n",
       "      <td>1326.0</td>\n",
       "      <td>NaN</td>\n",
       "      <td>132.90</td>\n",
       "    </tr>\n",
       "    <tr>\n",
       "      <th>2</th>\n",
       "      <td>19.69</td>\n",
       "      <td>21.25</td>\n",
       "      <td>1203.0</td>\n",
       "      <td>0.10960</td>\n",
       "      <td>130.00</td>\n",
       "    </tr>\n",
       "    <tr>\n",
       "      <th>3</th>\n",
       "      <td>11.42</td>\n",
       "      <td>20.38</td>\n",
       "      <td>386.1</td>\n",
       "      <td>0.14048</td>\n",
       "      <td>77.58</td>\n",
       "    </tr>\n",
       "    <tr>\n",
       "      <th>4</th>\n",
       "      <td>20.29</td>\n",
       "      <td>14.34</td>\n",
       "      <td>1297.0</td>\n",
       "      <td>0.10030</td>\n",
       "      <td>135.10</td>\n",
       "    </tr>\n",
       "  </tbody>\n",
       "</table>\n",
       "</div>"
      ],
      "text/plain": [
       "   mean radius  mean texture  mean area  mean smoothness  mean perimeter\n",
       "0        17.99         10.38     1001.0          0.11840          122.80\n",
       "1        20.57         17.77     1326.0              NaN          132.90\n",
       "2        19.69         21.25     1203.0          0.10960          130.00\n",
       "3        11.42         20.38      386.1          0.14048           77.58\n",
       "4        20.29         14.34     1297.0          0.10030          135.10"
      ]
     },
     "execution_count": 8,
     "metadata": {},
     "output_type": "execute_result"
    }
   ],
   "source": [
    "model.capped_X.head(5)"
   ]
  },
  {
   "cell_type": "markdown",
   "metadata": {},
   "source": [
    "**<font size=5 color='blue'> chi2_test </font>**\n",
    "\n",
    "---\n",
    "\n",
    "A chi-square goodness of fit test determines whether sample data fits a particular population.\n",
    "\n",
    "Create normal random variable x ~ $N(\\mu,\\sigma)$ = (2, 2)."
   ]
  },
  {
   "cell_type": "code",
   "execution_count": 9,
   "metadata": {},
   "outputs": [],
   "source": [
    "x = stats.norm(loc=2, scale=2).rvs(size=500, random_state=0)"
   ]
  },
  {
   "cell_type": "markdown",
   "metadata": {},
   "source": [
    "$H_{0}$ : data follows a normal distribution.\n",
    "\n",
    "$H_{A}$ : data does not follow a normal distribution.\n",
    "\n",
    "[scipy.stats](https://docs.scipy.org/doc/scipy/reference/stats.html)"
   ]
  },
  {
   "cell_type": "code",
   "execution_count": 10,
   "metadata": {},
   "outputs": [
    {
     "data": {
      "text/plain": [
       "Chi2_Test(cv=2.3866122767931617, df=7, pvalue=0.9353905800003721, dist='norm', params=(1.9492911213351323, 1.9963135546858515))"
      ]
     },
     "execution_count": 10,
     "metadata": {},
     "output_type": "execute_result"
    }
   ],
   "source": [
    "chi2_test(x, dist=\"norm\")"
   ]
  },
  {
   "cell_type": "markdown",
   "metadata": {},
   "source": [
    "If shape-related parameters are known e.g. $\\mu$ or $\\sigma$ or true population, we can freeze them for the instance of the distribution."
   ]
  },
  {
   "cell_type": "code",
   "execution_count": 11,
   "metadata": {},
   "outputs": [
    {
     "data": {
      "text/plain": [
       "Chi2_Test(cv=2.852688694120608, df=7, pvalue=0.8982870469874376, dist='norm', params={'args': (), 'kwds': {'loc': 2, 'scale': 2}})"
      ]
     },
     "execution_count": 11,
     "metadata": {},
     "output_type": "execute_result"
    }
   ],
   "source": [
    "chi2_test(x, dist=stats.norm(loc=2, scale=2))"
   ]
  },
  {
   "cell_type": "markdown",
   "metadata": {},
   "source": [
    "If $\\alpha$ is 5% (0.05), we can not reject the null hypothesis (0.94 > 0.05). Or we can determine the critical value as follows:"
   ]
  },
  {
   "cell_type": "code",
   "execution_count": 12,
   "metadata": {},
   "outputs": [
    {
     "name": "stdout",
     "output_type": "stream",
     "text": [
      "Critical Value = 14.0671\n"
     ]
    }
   ],
   "source": [
    "print('Critical Value = {:,.4f}'.format(stats.chi2.ppf(0.95, 7)))"
   ]
  },
  {
   "cell_type": "markdown",
   "metadata": {},
   "source": [
    "We cannot reject the null hypotheis since $\\chi^{2}$ is 2.389, which is less than $\\chi^{2}_{\\alpha=0.05, df=7}$ = 14.0671"
   ]
  },
  {
   "cell_type": "markdown",
   "metadata": {},
   "source": [
    "**<font size=5 color='blue'> qq_plot </font>**\n",
    "\n",
    "---\n",
    "\n",
    "Standard quantile-quantile (Q-Q) plot (Wilk and Gnanadesikan, 1968) is a probability plot, which is a graphical method for comparing two probability distributions by plotting their quantiles against each other [wikipedia](https://en.wikipedia.org/wiki/Q–Q_plot)\n",
    "\n",
    "Create normal random variable x ~ $N(\\mu,\\sigma)$ = (2, 2)."
   ]
  },
  {
   "cell_type": "code",
   "execution_count": 13,
   "metadata": {},
   "outputs": [],
   "source": [
    "x = stats.norm(loc=2, scale=2).rvs(size=500, random_state=0)"
   ]
  },
  {
   "cell_type": "markdown",
   "metadata": {},
   "source": [
    "See whether `x` follows normal or uniform distribution."
   ]
  },
  {
   "cell_type": "code",
   "execution_count": 14,
   "metadata": {},
   "outputs": [
    {
     "data": {
      "text/plain": [
       "QQ_plot(r=0.9998759256965546, cv=0.6020687774273007, rmse=0.06358873382864735, dist='norm', params=(1.9492911213351323, 1.9963135546858515))"
      ]
     },
     "execution_count": 14,
     "metadata": {},
     "output_type": "execute_result"
    }
   ],
   "source": [
    "qq_plot(x, dist=\"norm\")"
   ]
  },
  {
   "cell_type": "code",
   "execution_count": 15,
   "metadata": {},
   "outputs": [
    {
     "data": {
      "text/plain": [
       "QQ_plot(r=0.9717582798499491, cv=0.6020687774273007, rmse=1.239596599563976, dist='uniform', params=(-3.5451855128533003, 10.93763361798046))"
      ]
     },
     "execution_count": 15,
     "metadata": {},
     "output_type": "execute_result"
    }
   ],
   "source": [
    "qq_plot(x, dist=\"uniform\")   "
   ]
  },
  {
   "cell_type": "markdown",
   "metadata": {},
   "source": [
    "In this case, \"**norm**\" returns higher value of `r` along with smaller value of `mse`, thus we could say that a random variable `x`, has a distribution similar to a normal random distribution, $N(\\mu=2,\\sigma=2)$. However, visualizing a Q-Q plot is highly recommended as indicators can sometimes be inadequate to conclude \"**goodness of fit**\" of both distributions."
   ]
  },
  {
   "cell_type": "markdown",
   "metadata": {},
   "source": [
    "**<font size=5 color='blue'> MatchDist </font>**\n",
    "\n",
    "---\n",
    "\n",
    "Matching distribution with data by using following methods:\n",
    "- Chi-Square Test\n",
    "- Kolmogorov-Smirnov Test\n",
    "- Q-Q plot"
   ]
  },
  {
   "cell_type": "markdown",
   "metadata": {},
   "source": [
    "Use the breast cancer wisconsin dataset (`load_breast_cancer`)."
   ]
  },
  {
   "cell_type": "code",
   "execution_count": 16,
   "metadata": {},
   "outputs": [],
   "source": [
    "X, y = load_breast_cancer(return_X_y=True)\n",
    "cols = load_breast_cancer().feature_names\n",
    "X = pd.DataFrame(X, columns=cols)"
   ]
  },
  {
   "cell_type": "code",
   "execution_count": 17,
   "metadata": {},
   "outputs": [
    {
     "data": {
      "application/vnd.jupyter.widget-view+json": {
       "model_id": "e958f097b3f4415384e35ee4e9694298",
       "version_major": 2,
       "version_minor": 0
      },
      "text/plain": [
       "HBox(children=(HTMLMath(value='Initializing . . .'),))"
      ]
     },
     "metadata": {},
     "output_type": "display_data"
    },
    {
     "name": "stderr",
     "output_type": "stream",
     "text": [
      "//anaconda3/lib/python3.7/site-packages/scipy/stats/_distn_infrastructure.py:1702: RuntimeWarning: divide by zero encountered in log\n",
      "  return log(self._pdf(x, *args))\n",
      "//anaconda3/lib/python3.7/site-packages/scipy/stats/_continuous_distns.py:7248: RuntimeWarning: divide by zero encountered in power\n",
      "  Px = Fx**(lam-1.0) + (np.asarray(1-Fx))**(lam-1.0)\n",
      "//anaconda3/lib/python3.7/site-packages/scipy/stats/_continuous_distns.py:547: RuntimeWarning: invalid value encountered in sqrt\n",
      "  sk = 2*(b-a)*np.sqrt(a + b + 1) / (a + b + 2) / np.sqrt(a*b)\n",
      "//anaconda3/lib/python3.7/site-packages/scipy/optimize/minpack.py:162: RuntimeWarning: The iteration is not making good progress, as measured by the \n",
      "  improvement from the last ten iterations.\n",
      "  warnings.warn(msg, RuntimeWarning)\n",
      "/Users/administrator/Desktop/Python Projects/++ mtest ++/Univariate.py:326: RuntimeWarning: divide by zero encountered in true_divide\n",
      "  cv = ((observe-expect)**2/expect).sum()\n"
     ]
    }
   ],
   "source": [
    "model = MatchDist().fit(X)"
   ]
  },
  {
   "cell_type": "markdown",
   "metadata": {},
   "source": [
    "Summary of results"
   ]
  },
  {
   "cell_type": "code",
   "execution_count": 18,
   "metadata": {},
   "outputs": [
    {
     "data": {
      "text/html": [
       "<div>\n",
       "<style scoped>\n",
       "    .dataframe tbody tr th:only-of-type {\n",
       "        vertical-align: middle;\n",
       "    }\n",
       "\n",
       "    .dataframe tbody tr th {\n",
       "        vertical-align: top;\n",
       "    }\n",
       "\n",
       "    .dataframe thead th {\n",
       "        text-align: right;\n",
       "    }\n",
       "</style>\n",
       "<table border=\"1\" class=\"dataframe\">\n",
       "  <thead>\n",
       "    <tr style=\"text-align: right;\">\n",
       "      <th></th>\n",
       "      <th>variable</th>\n",
       "      <th>chi2_cv</th>\n",
       "      <th>chi2_pvalue</th>\n",
       "      <th>chi2_dist</th>\n",
       "      <th>ks_statistic</th>\n",
       "      <th>ks_pvalue</th>\n",
       "      <th>ks_dist</th>\n",
       "      <th>qq_r</th>\n",
       "      <th>qq_rmse</th>\n",
       "      <th>qq_dist</th>\n",
       "    </tr>\n",
       "  </thead>\n",
       "  <tbody>\n",
       "    <tr>\n",
       "      <th>13</th>\n",
       "      <td>mean radius</td>\n",
       "      <td>25.851068</td>\n",
       "      <td>0.000535</td>\n",
       "      <td>lognorm</td>\n",
       "      <td>0.045726</td>\n",
       "      <td>0.179624</td>\n",
       "      <td>lognorm</td>\n",
       "      <td>0.996762</td>\n",
       "      <td>0.347696</td>\n",
       "      <td>gamma</td>\n",
       "    </tr>\n",
       "    <tr>\n",
       "      <th>23</th>\n",
       "      <td>worst perimeter</td>\n",
       "      <td>31.142293</td>\n",
       "      <td>0.000059</td>\n",
       "      <td>gamma</td>\n",
       "      <td>0.059028</td>\n",
       "      <td>0.036411</td>\n",
       "      <td>gamma</td>\n",
       "      <td>0.997618</td>\n",
       "      <td>2.848099</td>\n",
       "      <td>gamma</td>\n",
       "    </tr>\n",
       "    <tr>\n",
       "      <th>11</th>\n",
       "      <td>worst smoothness</td>\n",
       "      <td>6.112972</td>\n",
       "      <td>0.526622</td>\n",
       "      <td>tukeylambda</td>\n",
       "      <td>0.023592</td>\n",
       "      <td>0.909428</td>\n",
       "      <td>tukeylambda</td>\n",
       "      <td>0.999361</td>\n",
       "      <td>0.001399</td>\n",
       "      <td>gamma</td>\n",
       "    </tr>\n",
       "    <tr>\n",
       "      <th>21</th>\n",
       "      <td>worst radius</td>\n",
       "      <td>25.767677</td>\n",
       "      <td>0.000554</td>\n",
       "      <td>lognorm</td>\n",
       "      <td>0.047120</td>\n",
       "      <td>0.154853</td>\n",
       "      <td>lognorm</td>\n",
       "      <td>0.996939</td>\n",
       "      <td>0.463483</td>\n",
       "      <td>beta</td>\n",
       "    </tr>\n",
       "    <tr>\n",
       "      <th>17</th>\n",
       "      <td>worst texture</td>\n",
       "      <td>8.285968</td>\n",
       "      <td>0.308054</td>\n",
       "      <td>beta</td>\n",
       "      <td>0.027294</td>\n",
       "      <td>0.790365</td>\n",
       "      <td>beta</td>\n",
       "      <td>0.999050</td>\n",
       "      <td>0.347781</td>\n",
       "      <td>beta</td>\n",
       "    </tr>\n",
       "  </tbody>\n",
       "</table>\n",
       "</div>"
      ],
      "text/plain": [
       "            variable    chi2_cv  chi2_pvalue    chi2_dist  ks_statistic  \\\n",
       "13       mean radius  25.851068     0.000535      lognorm      0.045726   \n",
       "23   worst perimeter  31.142293     0.000059        gamma      0.059028   \n",
       "11  worst smoothness   6.112972     0.526622  tukeylambda      0.023592   \n",
       "21      worst radius  25.767677     0.000554      lognorm      0.047120   \n",
       "17     worst texture   8.285968     0.308054         beta      0.027294   \n",
       "\n",
       "    ks_pvalue      ks_dist      qq_r   qq_rmse qq_dist  \n",
       "13   0.179624      lognorm  0.996762  0.347696   gamma  \n",
       "23   0.036411        gamma  0.997618  2.848099   gamma  \n",
       "11   0.909428  tukeylambda  0.999361  0.001399   gamma  \n",
       "21   0.154853      lognorm  0.996939  0.463483    beta  \n",
       "17   0.790365         beta  0.999050  0.347781    beta  "
      ]
     },
     "execution_count": 18,
     "metadata": {},
     "output_type": "execute_result"
    }
   ],
   "source": [
    "model.info.sample(5)"
   ]
  },
  {
   "cell_type": "markdown",
   "metadata": {},
   "source": [
    "**result** (Attribute) contains results from `chi2` (Chi-Square), `ks` (Kolmogorov-Smirnov), and `qq` (QQ plot) in the form of `namedtuple`."
   ]
  },
  {
   "cell_type": "code",
   "execution_count": 19,
   "metadata": {},
   "outputs": [
    {
     "data": {
      "text/plain": [
       "Methods(chi2=Chi2_Test(cv=25.76767706598165, df=7, pvalue=0.0005541386341557653, dist='lognorm', params=(0.4626150181982213, 6.152042524211384, 9.094988402008937)), ks=KsTest(statistic=0.047120418957146804, pvalue=0.1548525443196192, dist='lognorm', params=(0.4626150181982213, 6.152042524211384, 9.094988402008937)), qq=QQ_plot(r=0.9969393676969815, cv=0.6020687774273007, rmse=0.4634834777454867, dist='beta', params=(3.3663897880196787, 10539078.009124523, 7.632417808869157, 27046340.48266547)))"
      ]
     },
     "execution_count": 19,
     "metadata": {},
     "output_type": "execute_result"
    }
   ],
   "source": [
    "model.result[\"worst radius\"]"
   ]
  },
  {
   "cell_type": "markdown",
   "metadata": {},
   "source": [
    "To visualize the distribution, use **`plotting`** function."
   ]
  },
  {
   "cell_type": "code",
   "execution_count": 20,
   "metadata": {},
   "outputs": [
    {
     "data": {
      "image/png": "[encoded data removed]",
      "text/plain": [
       "<Figure size 432x273.6 with 1 Axes>"
      ]
     },
     "metadata": {
      "needs_background": "light"
     },
     "output_type": "display_data"
    }
   ],
   "source": [
    "model.plotting(\"worst radius\")"
   ]
  },
  {
   "cell_type": "markdown",
   "metadata": {},
   "source": [
    "**<font size=5 color='blue'> Descriptive </font>**\n",
    "\n",
    "---\n",
    "\n",
    "**Descriptive statistics** are brief descriptive coefficients that summarize a given data set, which can be either a representation of the entire or a sample of a population. Descriptive statistics are broken down into measures of central tendency and measures of variability (spread). Measures of central tendency include the mean, median, and mode, while measures of variability include standard deviation, variance, minimum and maximum variables, kurtosis, and skewness [investopedia](https://www.investopedia.com/terms/d/descriptive_statistics.asp)"
   ]
  },
  {
   "cell_type": "markdown",
   "metadata": {},
   "source": [
    "We use the breast cancer wisconsin dataset (`load_breast_cancer`) from the previous example."
   ]
  },
  {
   "cell_type": "code",
   "execution_count": 21,
   "metadata": {},
   "outputs": [],
   "source": [
    "model = Descriptive().fit(X)"
   ]
  },
  {
   "cell_type": "markdown",
   "metadata": {},
   "source": [
    "Summary of results (Attributes)\n",
    "- **num_info** (numerical)\n",
    "- **str_info** (non-numerical)"
   ]
  },
  {
   "cell_type": "code",
   "execution_count": 22,
   "metadata": {},
   "outputs": [
    {
     "data": {
      "text/html": [
       "<div>\n",
       "<style scoped>\n",
       "    .dataframe tbody tr th:only-of-type {\n",
       "        vertical-align: middle;\n",
       "    }\n",
       "\n",
       "    .dataframe tbody tr th {\n",
       "        vertical-align: top;\n",
       "    }\n",
       "\n",
       "    .dataframe thead th {\n",
       "        text-align: right;\n",
       "    }\n",
       "</style>\n",
       "<table border=\"1\" class=\"dataframe\">\n",
       "  <thead>\n",
       "    <tr style=\"text-align: right;\">\n",
       "      <th>variable</th>\n",
       "      <th>area error</th>\n",
       "      <th>compactness error</th>\n",
       "    </tr>\n",
       "  </thead>\n",
       "  <tbody>\n",
       "    <tr>\n",
       "      <th>unique</th>\n",
       "      <td>528.000000</td>\n",
       "      <td>541.000000</td>\n",
       "    </tr>\n",
       "    <tr>\n",
       "      <th>missing</th>\n",
       "      <td>0.000000</td>\n",
       "      <td>0.000000</td>\n",
       "    </tr>\n",
       "    <tr>\n",
       "      <th>mean</th>\n",
       "      <td>40.337079</td>\n",
       "      <td>0.025478</td>\n",
       "    </tr>\n",
       "    <tr>\n",
       "      <th>std</th>\n",
       "      <td>45.451013</td>\n",
       "      <td>0.017892</td>\n",
       "    </tr>\n",
       "    <tr>\n",
       "      <th>fisher skew</th>\n",
       "      <td>5.432816</td>\n",
       "      <td>1.897202</td>\n",
       "    </tr>\n",
       "    <tr>\n",
       "      <th>galton skew</th>\n",
       "      <td>0.511339</td>\n",
       "      <td>0.239029</td>\n",
       "    </tr>\n",
       "    <tr>\n",
       "      <th>kurtosis</th>\n",
       "      <td>48.767196</td>\n",
       "      <td>5.050966</td>\n",
       "    </tr>\n",
       "    <tr>\n",
       "      <th>min</th>\n",
       "      <td>6.802000</td>\n",
       "      <td>0.002252</td>\n",
       "    </tr>\n",
       "    <tr>\n",
       "      <th>25%</th>\n",
       "      <td>17.850000</td>\n",
       "      <td>0.013080</td>\n",
       "    </tr>\n",
       "    <tr>\n",
       "      <th>50%</th>\n",
       "      <td>24.530000</td>\n",
       "      <td>0.020450</td>\n",
       "    </tr>\n",
       "    <tr>\n",
       "      <th>75%</th>\n",
       "      <td>45.190000</td>\n",
       "      <td>0.032450</td>\n",
       "    </tr>\n",
       "    <tr>\n",
       "      <th>max</th>\n",
       "      <td>542.200000</td>\n",
       "      <td>0.135400</td>\n",
       "    </tr>\n",
       "    <tr>\n",
       "      <th>iqr</th>\n",
       "      <td>27.340000</td>\n",
       "      <td>0.019370</td>\n",
       "    </tr>\n",
       "    <tr>\n",
       "      <th>lower</th>\n",
       "      <td>-38.974560</td>\n",
       "      <td>-0.013203</td>\n",
       "    </tr>\n",
       "    <tr>\n",
       "      <th>upper</th>\n",
       "      <td>142.333019</td>\n",
       "      <td>0.077725</td>\n",
       "    </tr>\n",
       "    <tr>\n",
       "      <th>n_lower</th>\n",
       "      <td>0.000000</td>\n",
       "      <td>0.000000</td>\n",
       "    </tr>\n",
       "    <tr>\n",
       "      <th>n_upper</th>\n",
       "      <td>14.000000</td>\n",
       "      <td>12.000000</td>\n",
       "    </tr>\n",
       "  </tbody>\n",
       "</table>\n",
       "</div>"
      ],
      "text/plain": [
       "variable     area error  compactness error\n",
       "unique       528.000000         541.000000\n",
       "missing        0.000000           0.000000\n",
       "mean          40.337079           0.025478\n",
       "std           45.451013           0.017892\n",
       "fisher skew    5.432816           1.897202\n",
       "galton skew    0.511339           0.239029\n",
       "kurtosis      48.767196           5.050966\n",
       "min            6.802000           0.002252\n",
       "25%           17.850000           0.013080\n",
       "50%           24.530000           0.020450\n",
       "75%           45.190000           0.032450\n",
       "max          542.200000           0.135400\n",
       "iqr           27.340000           0.019370\n",
       "lower        -38.974560          -0.013203\n",
       "upper        142.333019           0.077725\n",
       "n_lower        0.000000           0.000000\n",
       "n_upper       14.000000          12.000000"
      ]
     },
     "execution_count": 22,
     "metadata": {},
     "output_type": "execute_result"
    }
   ],
   "source": [
    "model.num_info.iloc[:,:2]"
   ]
  },
  {
   "cell_type": "markdown",
   "metadata": {},
   "source": [
    "**num_info_** (Attribute) contains descriptive statistics of all variables in the form of `namedtuple`."
   ]
  },
  {
   "cell_type": "code",
   "execution_count": 23,
   "metadata": {},
   "outputs": [
    {
     "data": {
      "text/plain": [
       "DescStats(variable='mean texture', unique=479, missing=0, mean=19.289648506151142, std=4.297254637090421, f_skewness=0.6487335672867015, g_skewness=0.0515097690941384, kurtosis=0.74114542022429, min=9.71, pct25=16.17, pct50=18.84, pct75=21.8, max=39.28, iqr=5.629999999999999, lower=7.836020569387409, upper=32.52414510138002, n_lower=0, n_upper=3)"
      ]
     },
     "execution_count": 23,
     "metadata": {},
     "output_type": "execute_result"
    }
   ],
   "source": [
    "model.num_info_['mean texture']"
   ]
  },
  {
   "cell_type": "markdown",
   "metadata": {},
   "source": [
    "To visualize the distribution, use **`plotting`** function (powered by **`DescStatsPlot`**)."
   ]
  },
  {
   "cell_type": "code",
   "execution_count": 24,
   "metadata": {},
   "outputs": [
    {
     "data": {
      "image/png": "[encoded data removed]",
      "text/plain": [
       "<Figure size 576x273.6 with 1 Axes>"
      ]
     },
     "metadata": {
      "needs_background": "light"
     },
     "output_type": "display_data"
    }
   ],
   "source": [
    "model.plotting(\"worst smoothness\")\n",
    "plt.show()"
   ]
  },
  {
   "cell_type": "markdown",
   "metadata": {},
   "source": [
    "Alternatively, we can use **`DescStatsPlot`** to visualize the results from **`Descriptive`**."
   ]
  },
  {
   "cell_type": "code",
   "execution_count": 25,
   "metadata": {
    "scrolled": false
   },
   "outputs": [
    {
     "data": {
      "image/png": "[encoded data removed]",
      "text/plain": [
       "<Figure size 576x273.6 with 1 Axes>"
      ]
     },
     "metadata": {
      "needs_background": "light"
     },
     "output_type": "display_data"
    }
   ],
   "source": [
    "dStats = DescStatsPlot(X, model.num_info_)\n",
    "dStats.plotting(\"worst smoothness\")\n",
    "plt.tight_layout(); plt.show()"
   ]
  },
  {
   "cell_type": "markdown",
   "metadata": {},
   "source": [
    "**<font size=5 color='blue'> Compare2samp </font>**\n",
    "\n",
    "---\n",
    "\n",
    "Determine goodness of fit between two sets of data by using following methods:\n",
    "- Chi-Square Test\n",
    "- Kolmogorov-Smirnov Test (**scipy.stats.ks_2samp**)"
   ]
  },
  {
   "cell_type": "code",
   "execution_count": 875,
   "metadata": {},
   "outputs": [],
   "source": [
    "from sklearn.datasets import fetch_openml\n",
    "X, y = fetch_openml(\"titanic\", version=1, as_frame=True, return_X_y=True)\n",
    "random_X = X.sample(100).copy()"
   ]
  },
  {
   "cell_type": "code",
   "execution_count": 901,
   "metadata": {},
   "outputs": [],
   "source": [
    "model = Compare2samp(frac=0.005).fit(X, random_X)"
   ]
  },
  {
   "cell_type": "markdown",
   "metadata": {},
   "source": [
    "Summary of results"
   ]
  },
  {
   "cell_type": "code",
   "execution_count": 902,
   "metadata": {},
   "outputs": [
    {
     "data": {
      "text/html": [
       "<div>\n",
       "<style scoped>\n",
       "    .dataframe tbody tr th:only-of-type {\n",
       "        vertical-align: middle;\n",
       "    }\n",
       "\n",
       "    .dataframe tbody tr th {\n",
       "        vertical-align: top;\n",
       "    }\n",
       "\n",
       "    .dataframe thead th {\n",
       "        text-align: right;\n",
       "    }\n",
       "</style>\n",
       "<table border=\"1\" class=\"dataframe\">\n",
       "  <thead>\n",
       "    <tr style=\"text-align: right;\">\n",
       "      <th></th>\n",
       "      <th>chi2_cv</th>\n",
       "      <th>chi2_df</th>\n",
       "      <th>chi2_pvalue</th>\n",
       "      <th>chi2_bins</th>\n",
       "      <th>ks_stat</th>\n",
       "      <th>ks_pvalue</th>\n",
       "      <th>dtype</th>\n",
       "    </tr>\n",
       "    <tr>\n",
       "      <th>variable</th>\n",
       "      <th></th>\n",
       "      <th></th>\n",
       "      <th></th>\n",
       "      <th></th>\n",
       "      <th></th>\n",
       "      <th></th>\n",
       "      <th></th>\n",
       "    </tr>\n",
       "  </thead>\n",
       "  <tbody>\n",
       "    <tr>\n",
       "      <th>pclass</th>\n",
       "      <td>0.0005</td>\n",
       "      <td>1</td>\n",
       "      <td>0.9818</td>\n",
       "      <td>3</td>\n",
       "      <td>0.0068</td>\n",
       "      <td>1.0000</td>\n",
       "      <td>int32</td>\n",
       "    </tr>\n",
       "    <tr>\n",
       "      <th>age</th>\n",
       "      <td>0.1843</td>\n",
       "      <td>6</td>\n",
       "      <td>0.9999</td>\n",
       "      <td>9</td>\n",
       "      <td>0.0717</td>\n",
       "      <td>0.6972</td>\n",
       "      <td>float32</td>\n",
       "    </tr>\n",
       "    <tr>\n",
       "      <th>sibsp</th>\n",
       "      <td>0.0326</td>\n",
       "      <td>4</td>\n",
       "      <td>0.9999</td>\n",
       "      <td>7</td>\n",
       "      <td>0.0356</td>\n",
       "      <td>0.9995</td>\n",
       "      <td>int32</td>\n",
       "    </tr>\n",
       "    <tr>\n",
       "      <th>parch</th>\n",
       "      <td>0.0319</td>\n",
       "      <td>3</td>\n",
       "      <td>0.9985</td>\n",
       "      <td>6</td>\n",
       "      <td>0.0445</td>\n",
       "      <td>0.9886</td>\n",
       "      <td>int32</td>\n",
       "    </tr>\n",
       "    <tr>\n",
       "      <th>fare</th>\n",
       "      <td>0.0389</td>\n",
       "      <td>2</td>\n",
       "      <td>0.9807</td>\n",
       "      <td>5</td>\n",
       "      <td>0.0767</td>\n",
       "      <td>0.6148</td>\n",
       "      <td>float32</td>\n",
       "    </tr>\n",
       "  </tbody>\n",
       "</table>\n",
       "</div>"
      ],
      "text/plain": [
       "          chi2_cv  chi2_df  chi2_pvalue  chi2_bins  ks_stat  ks_pvalue  \\\n",
       "variable                                                                 \n",
       "pclass     0.0005        1       0.9818          3   0.0068     1.0000   \n",
       "age        0.1843        6       0.9999          9   0.0717     0.6972   \n",
       "sibsp      0.0326        4       0.9999          7   0.0356     0.9995   \n",
       "parch      0.0319        3       0.9985          6   0.0445     0.9886   \n",
       "fare       0.0389        2       0.9807          5   0.0767     0.6148   \n",
       "\n",
       "            dtype  \n",
       "variable           \n",
       "pclass      int32  \n",
       "age       float32  \n",
       "sibsp       int32  \n",
       "parch       int32  \n",
       "fare      float32  "
      ]
     },
     "execution_count": 902,
     "metadata": {},
     "output_type": "execute_result"
    }
   ],
   "source": [
    "model.info.head()"
   ]
  },
  {
   "cell_type": "markdown",
   "metadata": {},
   "source": [
    "To visualize Chi-Square Goodness of Fit, use `plotting`."
   ]
  },
  {
   "cell_type": "code",
   "execution_count": 904,
   "metadata": {},
   "outputs": [
    {
     "data": {
      "image/png": "[encoded data removed]",
      "text/plain": [
       "<Figure size 432x309.6 with 1 Axes>"
      ]
     },
     "metadata": {
      "needs_background": "light"
     },
     "output_type": "display_data"
    }
   ],
   "source": [
    "var = np.random.choice(list(model.result.keys()))\n",
    "ax = model.plotting(var)"
   ]
  },
  {
   "cell_type": "code",
   "execution_count": null,
   "metadata": {},
   "outputs": [],
   "source": []
  }
 ],
 "metadata": {
  "kernelspec": {
   "display_name": "Python 3",
   "language": "python",
   "name": "python3"
  },
  "language_info": {
   "codemirror_mode": {
    "name": "ipython",
    "version": 3
   },
   "file_extension": ".py",
   "mimetype": "text/x-python",
   "name": "python",
   "nbconvert_exporter": "python",
   "pygments_lexer": "ipython3",
   "version": "3.7.3"
  }
 },
 "nbformat": 4,
 "nbformat_minor": 2
}
