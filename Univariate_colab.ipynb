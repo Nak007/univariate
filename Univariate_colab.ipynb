{
 "cells": [
  {
   "cell_type": "markdown",
   "metadata": {},
   "source": [
    "### Google.colab\n",
    "Only execute this cell when use on google colab platform (colab)."
   ]
  },
  {
   "cell_type": "markdown",
   "metadata": {},
   "source": [
    "<table class=\"tfo-notebook-buttons\" align=\"left\">\n",
    "  <td>\n",
    "    <a target=\"_blank\" href=\"https://github.com/Nak007/univariate\">\n",
    "    <img src=\"https://www.tensorflow.org/images/GitHub-Mark-32px.png\" />View source on GitHub</a>\n",
    "  </td>\n",
    "</table>"
   ]
  },
  {
   "cell_type": "code",
   "execution_count": null,
   "metadata": {},
   "outputs": [],
   "source": [
    "# Mount with google drive.\n",
    "from google.colab import drive\n",
    "drive.mount('/content/dirve')\n",
    "\n",
    "# Import other libraries required.\n",
    "!git clone 'http://github.com/Nak007/univariate.git'"
   ]
  },
  {
   "cell_type": "code",
   "execution_count": 1,
   "metadata": {},
   "outputs": [],
   "source": [
    "from sklearn.datasets import load_breast_cancer\n",
    "import pandas as pd, numpy as np, sys\n",
    "from scipy import stats\n",
    "import matplotlib.pyplot as plt\n",
    "\n",
    "sys.path.append('/content/univariate')\n",
    "from Univariate import *"
   ]
  },
  {
   "cell_type": "markdown",
   "metadata": {},
   "source": [
    "## Example"
   ]
  },
  {
   "cell_type": "markdown",
   "metadata": {},
   "source": [
    "**<font size=5 color='blue'> UnivariateOutliers </font>**\n",
    "\n",
    "---\n",
    "\n",
    "`UnivariateOutliers` determines univariate outliers within one variable at a time. Any identified outlier, is capped to the lower/upper value."
   ]
  },
  {
   "cell_type": "markdown",
   "metadata": {},
   "source": [
    "Use the breast cancer wisconsin dataset (`load_breast_cancer`)."
   ]
  },
  {
   "cell_type": "code",
   "execution_count": 2,
   "metadata": {},
   "outputs": [],
   "source": [
    "X, y = load_breast_cancer(return_X_y=True)\n",
    "cols = load_breast_cancer().feature_names"
   ]
  },
  {
   "cell_type": "markdown",
   "metadata": {},
   "source": [
    "Randomly replace numerical value with `np.nan`."
   ]
  },
  {
   "cell_type": "code",
   "execution_count": 3,
   "metadata": {},
   "outputs": [],
   "source": [
    "np.random.seed(0)\n",
    "NaN = np.random.random(X.shape)<0.1\n",
    "X = pd.DataFrame(np.where(NaN, np.nan, X), columns=cols).iloc[:,:5]"
   ]
  },
  {
   "cell_type": "markdown",
   "metadata": {},
   "source": [
    "Add non-numeric and all-nan fields"
   ]
  },
  {
   "cell_type": "code",
   "execution_count": 4,
   "metadata": {},
   "outputs": [],
   "source": [
    "X['only_str'], X['all_nan'] = 'only_str', np.nan"
   ]
  },
  {
   "cell_type": "markdown",
   "metadata": {},
   "source": [
    "Univariate outlier detection methods\n",
    "- \"**pct**\"   : Percentile\n",
    "- \"**sigma**\" : Z-score\n",
    "- \"**iqr**\"   : Interquartile range\n",
    "- \"**grubb**\" : Grubbs' test (Grubbs 1969 and Stefansky 1972)\n",
    "- \"**gesd**\"  : Generalized Extreme Studentized Deviate\n",
    "- \"**mad**\"   : Median Absolute Deviation\n",
    "- \"**mae**\"   : Mean Absolute Error"
   ]
  },
  {
   "cell_type": "code",
   "execution_count": 5,
   "metadata": {},
   "outputs": [
    {
     "name": "stderr",
     "output_type": "stream",
     "text": [
      "/Users/600201/Desktop/Python Projects/== Univariate ==/Revision_01/Univariate.py:722: UserWarning: Data variables must be numerical. List of non-numerical variables: ['only_str']\n",
      "  warn(message)\n",
      "/Users/600201/Desktop/Python Projects/== Univariate ==/Revision_01/Univariate.py:733: UserWarning: Data variables must contain numerical values more than 10 records. List of invalid variables: ['all_nan']\n",
      "  warn(message)\n"
     ]
    }
   ],
   "source": [
    "model = UnivariateOutliers().fit(X)"
   ]
  },
  {
   "cell_type": "markdown",
   "metadata": {},
   "source": [
    "Excluded variables"
   ]
  },
  {
   "cell_type": "code",
   "execution_count": 6,
   "metadata": {},
   "outputs": [
    {
     "data": {
      "text/plain": [
       "{'non_numeric': ['only_str'], 'min_numeric': ['all_nan']}"
      ]
     },
     "execution_count": 6,
     "metadata": {},
     "output_type": "execute_result"
    }
   ],
   "source": [
    "model.exclude"
   ]
  },
  {
   "cell_type": "code",
   "execution_count": 7,
   "metadata": {
    "scrolled": true
   },
   "outputs": [
    {
     "data": {
      "text/html": [
       "<div>\n",
       "<style scoped>\n",
       "    .dataframe tbody tr th:only-of-type {\n",
       "        vertical-align: middle;\n",
       "    }\n",
       "\n",
       "    .dataframe tbody tr th {\n",
       "        vertical-align: top;\n",
       "    }\n",
       "\n",
       "    .dataframe thead th {\n",
       "        text-align: right;\n",
       "    }\n",
       "</style>\n",
       "<table border=\"1\" class=\"dataframe\">\n",
       "  <thead>\n",
       "    <tr style=\"text-align: right;\">\n",
       "      <th></th>\n",
       "      <th>variable</th>\n",
       "      <th>lower</th>\n",
       "      <th>upper</th>\n",
       "      <th>n_lower</th>\n",
       "      <th>n_upper</th>\n",
       "      <th>n_outlier</th>\n",
       "      <th>n_notnan</th>\n",
       "      <th>p_outlier</th>\n",
       "    </tr>\n",
       "  </thead>\n",
       "  <tbody>\n",
       "    <tr>\n",
       "      <th>0</th>\n",
       "      <td>mean area</td>\n",
       "      <td>-90.415776</td>\n",
       "      <td>1669.944390</td>\n",
       "      <td>0</td>\n",
       "      <td>12</td>\n",
       "      <td>12</td>\n",
       "      <td>506</td>\n",
       "      <td>0.023715</td>\n",
       "    </tr>\n",
       "    <tr>\n",
       "      <th>1</th>\n",
       "      <td>mean radius</td>\n",
       "      <td>5.575586</td>\n",
       "      <td>24.727001</td>\n",
       "      <td>0</td>\n",
       "      <td>5</td>\n",
       "      <td>5</td>\n",
       "      <td>510</td>\n",
       "      <td>0.009804</td>\n",
       "    </tr>\n",
       "    <tr>\n",
       "      <th>2</th>\n",
       "      <td>mean perimeter</td>\n",
       "      <td>35.200213</td>\n",
       "      <td>161.368201</td>\n",
       "      <td>0</td>\n",
       "      <td>5</td>\n",
       "      <td>5</td>\n",
       "      <td>505</td>\n",
       "      <td>0.009901</td>\n",
       "    </tr>\n",
       "    <tr>\n",
       "      <th>3</th>\n",
       "      <td>mean texture</td>\n",
       "      <td>8.188421</td>\n",
       "      <td>32.457089</td>\n",
       "      <td>0</td>\n",
       "      <td>3</td>\n",
       "      <td>3</td>\n",
       "      <td>513</td>\n",
       "      <td>0.005848</td>\n",
       "    </tr>\n",
       "    <tr>\n",
       "      <th>4</th>\n",
       "      <td>mean smoothness</td>\n",
       "      <td>0.054784</td>\n",
       "      <td>0.140480</td>\n",
       "      <td>1</td>\n",
       "      <td>3</td>\n",
       "      <td>4</td>\n",
       "      <td>498</td>\n",
       "      <td>0.008032</td>\n",
       "    </tr>\n",
       "  </tbody>\n",
       "</table>\n",
       "</div>"
      ],
      "text/plain": [
       "          variable      lower        upper  n_lower  n_upper  n_outlier  \\\n",
       "0        mean area -90.415776  1669.944390        0       12         12   \n",
       "1      mean radius   5.575586    24.727001        0        5          5   \n",
       "2   mean perimeter  35.200213   161.368201        0        5          5   \n",
       "3     mean texture   8.188421    32.457089        0        3          3   \n",
       "4  mean smoothness   0.054784     0.140480        1        3          4   \n",
       "\n",
       "   n_notnan  p_outlier  \n",
       "0       506   0.023715  \n",
       "1       510   0.009804  \n",
       "2       505   0.009901  \n",
       "3       513   0.005848  \n",
       "4       498   0.008032  "
      ]
     },
     "execution_count": 7,
     "metadata": {},
     "output_type": "execute_result"
    }
   ],
   "source": [
    "model.info"
   ]
  },
  {
   "cell_type": "code",
   "execution_count": 8,
   "metadata": {},
   "outputs": [
    {
     "data": {
      "text/html": [
       "<div>\n",
       "<style scoped>\n",
       "    .dataframe tbody tr th:only-of-type {\n",
       "        vertical-align: middle;\n",
       "    }\n",
       "\n",
       "    .dataframe tbody tr th {\n",
       "        vertical-align: top;\n",
       "    }\n",
       "\n",
       "    .dataframe thead th {\n",
       "        text-align: right;\n",
       "    }\n",
       "</style>\n",
       "<table border=\"1\" class=\"dataframe\">\n",
       "  <thead>\n",
       "    <tr style=\"text-align: right;\">\n",
       "      <th></th>\n",
       "      <th>mean area</th>\n",
       "      <th>mean radius</th>\n",
       "      <th>mean perimeter</th>\n",
       "      <th>mean texture</th>\n",
       "      <th>mean smoothness</th>\n",
       "    </tr>\n",
       "  </thead>\n",
       "  <tbody>\n",
       "    <tr>\n",
       "      <th>0</th>\n",
       "      <td>1001.0</td>\n",
       "      <td>17.99</td>\n",
       "      <td>122.80</td>\n",
       "      <td>10.38</td>\n",
       "      <td>0.11840</td>\n",
       "    </tr>\n",
       "    <tr>\n",
       "      <th>1</th>\n",
       "      <td>1326.0</td>\n",
       "      <td>20.57</td>\n",
       "      <td>132.90</td>\n",
       "      <td>17.77</td>\n",
       "      <td>NaN</td>\n",
       "    </tr>\n",
       "    <tr>\n",
       "      <th>2</th>\n",
       "      <td>1203.0</td>\n",
       "      <td>19.69</td>\n",
       "      <td>130.00</td>\n",
       "      <td>21.25</td>\n",
       "      <td>0.10960</td>\n",
       "    </tr>\n",
       "    <tr>\n",
       "      <th>3</th>\n",
       "      <td>386.1</td>\n",
       "      <td>11.42</td>\n",
       "      <td>77.58</td>\n",
       "      <td>20.38</td>\n",
       "      <td>0.14048</td>\n",
       "    </tr>\n",
       "    <tr>\n",
       "      <th>4</th>\n",
       "      <td>1297.0</td>\n",
       "      <td>20.29</td>\n",
       "      <td>135.10</td>\n",
       "      <td>14.34</td>\n",
       "      <td>0.10030</td>\n",
       "    </tr>\n",
       "  </tbody>\n",
       "</table>\n",
       "</div>"
      ],
      "text/plain": [
       "   mean area  mean radius  mean perimeter  mean texture  mean smoothness\n",
       "0     1001.0        17.99          122.80         10.38          0.11840\n",
       "1     1326.0        20.57          132.90         17.77              NaN\n",
       "2     1203.0        19.69          130.00         21.25          0.10960\n",
       "3      386.1        11.42           77.58         20.38          0.14048\n",
       "4     1297.0        20.29          135.10         14.34          0.10030"
      ]
     },
     "execution_count": 8,
     "metadata": {},
     "output_type": "execute_result"
    }
   ],
   "source": [
    "model.capped_X.head(5)"
   ]
  },
  {
   "cell_type": "markdown",
   "metadata": {},
   "source": [
    "**<font size=5 color='blue'> chi2_test </font>**\n",
    "\n",
    "---\n",
    "\n",
    "A chi-square goodness of fit test determines whether sample data fits a particular population.\n",
    "\n",
    "Create normal random variable x ~ $N(\\mu,\\sigma)$ = (2, 2)."
   ]
  },
  {
   "cell_type": "code",
   "execution_count": 9,
   "metadata": {},
   "outputs": [],
   "source": [
    "x = stats.norm(loc=2, scale=2).rvs(size=500, random_state=0)"
   ]
  },
  {
   "cell_type": "markdown",
   "metadata": {},
   "source": [
    "$H_{0}$ : data follows a normal distribution.\n",
    "\n",
    "$H_{A}$ : data does not follow a normal distribution.\n",
    "\n",
    "[scipy.stats](https://docs.scipy.org/doc/scipy/reference/stats.html)"
   ]
  },
  {
   "cell_type": "code",
   "execution_count": 10,
   "metadata": {},
   "outputs": [
    {
     "data": {
      "text/plain": [
       "Chi2_Test(chisq=0.4773224553586323, df=9, pvalue=0.9999750744566653, dist='norm', params=(1.9492911213351323, 1.9963135546858515))"
      ]
     },
     "execution_count": 10,
     "metadata": {},
     "output_type": "execute_result"
    }
   ],
   "source": [
    "chi2_test(x, dist=\"norm\")"
   ]
  },
  {
   "cell_type": "markdown",
   "metadata": {},
   "source": [
    "If shape-related parameters are known e.g. $\\mu$ or $\\sigma$ or true population, we can freeze them for the instance of the distribution."
   ]
  },
  {
   "cell_type": "code",
   "execution_count": 11,
   "metadata": {},
   "outputs": [
    {
     "data": {
      "text/plain": [
       "Chi2_Test(chisq=0.5705377388241217, df=9, pvalue=0.9999464408294994, dist='norm', params={'args': (), 'kwds': {'loc': 2, 'scale': 2}})"
      ]
     },
     "execution_count": 11,
     "metadata": {},
     "output_type": "execute_result"
    }
   ],
   "source": [
    "chi2_test(x, dist=stats.norm(loc=2, scale=2))"
   ]
  },
  {
   "cell_type": "markdown",
   "metadata": {},
   "source": [
    "If $\\alpha$ is 5% (0.05), we can not reject the null hypothesis (0.99 > 0.05). Or we can determine the critical value as follows:"
   ]
  },
  {
   "cell_type": "code",
   "execution_count": 12,
   "metadata": {},
   "outputs": [
    {
     "name": "stdout",
     "output_type": "stream",
     "text": [
      "Degrees of freedom = 9\n",
      "Critical Value = 16.9190\n"
     ]
    }
   ],
   "source": [
    "print('Degrees of freedom = {:,.0f}'.format(9))\n",
    "print('Critical Value = {:,.4f}'.format(stats.chi2.ppf(0.95, 9)))"
   ]
  },
  {
   "cell_type": "markdown",
   "metadata": {},
   "source": [
    "We cannot reject the null hypotheis since $\\chi^{2}$ is 0.477, which is less than $\\chi^{2}_{\\alpha=0.05, df=7}$ = 16.919"
   ]
  },
  {
   "cell_type": "markdown",
   "metadata": {},
   "source": [
    "**<font size=5 color='blue'> qq_plot </font>**\n",
    "\n",
    "---\n",
    "\n",
    "Standard quantile-quantile (Q-Q) plot (Wilk and Gnanadesikan, 1968) is a probability plot, which is a graphical method for comparing two probability distributions by plotting their quantiles against each other [wikipedia](https://en.wikipedia.org/wiki/Q–Q_plot)\n",
    "\n",
    "Create normal random variable x ~ $N(\\mu,\\sigma)$ = (2, 2)."
   ]
  },
  {
   "cell_type": "code",
   "execution_count": 13,
   "metadata": {},
   "outputs": [],
   "source": [
    "x = stats.norm(loc=2, scale=2).rvs(size=500, random_state=0)"
   ]
  },
  {
   "cell_type": "markdown",
   "metadata": {},
   "source": [
    "See whether `x` follows normal or uniform distribution."
   ]
  },
  {
   "cell_type": "code",
   "execution_count": 14,
   "metadata": {},
   "outputs": [
    {
     "data": {
      "text/plain": [
       "QQ_plot(r=0.9998759256965545, statistic=0.6020687774273007, rmse=0.06358873382864735, dist='norm', params=(1.9492911213351323, 1.9963135546858515))"
      ]
     },
     "execution_count": 14,
     "metadata": {},
     "output_type": "execute_result"
    }
   ],
   "source": [
    "qq_plot(x, dist=\"norm\")"
   ]
  },
  {
   "cell_type": "code",
   "execution_count": 15,
   "metadata": {},
   "outputs": [
    {
     "data": {
      "text/plain": [
       "QQ_plot(r=0.9717582798499491, statistic=0.6020687774273007, rmse=1.239596599563976, dist='uniform', params=(-3.5451855128533003, 10.93763361798046))"
      ]
     },
     "execution_count": 15,
     "metadata": {},
     "output_type": "execute_result"
    }
   ],
   "source": [
    "qq_plot(x, dist=\"uniform\")   "
   ]
  },
  {
   "cell_type": "markdown",
   "metadata": {},
   "source": [
    "In this case, \"**norm**\" returns higher value of `r` along with smaller value of `mse`, thus we could say that a random variable `x`, has a distribution similar to a normal random distribution, $N(\\mu=2,\\sigma=2)$. However, visualizing a Q-Q plot is highly recommended as indicators can sometimes be inadequate to conclude \"**goodness of fit**\" of both distributions."
   ]
  },
  {
   "cell_type": "markdown",
   "metadata": {},
   "source": [
    "**<font size=5 color='blue'> MatchDist </font>**\n",
    "\n",
    "---\n",
    "\n",
    "Matching distribution with data by using following methods:\n",
    "- Chi-Square Test\n",
    "- Kolmogorov-Smirnov Test\n",
    "- Q-Q plot"
   ]
  },
  {
   "cell_type": "markdown",
   "metadata": {},
   "source": [
    "Use the breast cancer wisconsin dataset (`load_breast_cancer`)."
   ]
  },
  {
   "cell_type": "code",
   "execution_count": 16,
   "metadata": {},
   "outputs": [],
   "source": [
    "X, y = load_breast_cancer(return_X_y=True)\n",
    "cols = load_breast_cancer().feature_names\n",
    "X = pd.DataFrame(X, columns=cols)"
   ]
  },
  {
   "cell_type": "code",
   "execution_count": 17,
   "metadata": {},
   "outputs": [
    {
     "data": {
      "application/vnd.jupyter.widget-view+json": {
       "model_id": "248f1e5ce836403eafd17b3f3bc4c02c",
       "version_major": 2,
       "version_minor": 0
      },
      "text/plain": [
       "HBox(children=(HTMLMath(value='Initializing . . .'),))"
      ]
     },
     "metadata": {},
     "output_type": "display_data"
    },
    {
     "name": "stderr",
     "output_type": "stream",
     "text": [
      "/opt/anaconda3/lib/python3.8/site-packages/scipy/stats/_continuous_distns.py:1727: RuntimeWarning: overflow encountered in exp\n",
      "  f = 1 + np.log(b) + sc.xlogy(b - 1.0, x) + xb - np.exp(xb)\n",
      "/opt/anaconda3/lib/python3.8/site-packages/scipy/stats/_distn_infrastructure.py:1797: RuntimeWarning: divide by zero encountered in log\n",
      "  return log(self._pdf(x, *args))\n",
      "/opt/anaconda3/lib/python3.8/site-packages/scipy/stats/_continuous_distns.py:7901: RuntimeWarning: divide by zero encountered in power\n",
      "  Px = Fx**(lam-1.0) + (np.asarray(1-Fx))**(lam-1.0)\n",
      "/opt/anaconda3/lib/python3.8/site-packages/scipy/stats/_continuous_distns.py:621: RuntimeWarning: invalid value encountered in sqrt\n",
      "  sk = 2*(b-a)*np.sqrt(a + b + 1) / (a + b + 2) / np.sqrt(a*b)\n",
      "/Users/600201/Desktop/Python Projects/== Univariate ==/Revision_01/Univariate.py:398: RuntimeWarning: divide by zero encountered in true_divide\n",
      "  chisq = ((observe-expect)**2/expect).sum()\n",
      "/opt/anaconda3/lib/python3.8/site-packages/scipy/optimize/minpack.py:175: RuntimeWarning: The iteration is not making good progress, as measured by the \n",
      "  improvement from the last ten iterations.\n",
      "  warnings.warn(msg, RuntimeWarning)\n"
     ]
    }
   ],
   "source": [
    "model = MatchDist().fit(X)"
   ]
  },
  {
   "cell_type": "markdown",
   "metadata": {},
   "source": [
    "Summary of results"
   ]
  },
  {
   "cell_type": "code",
   "execution_count": 18,
   "metadata": {},
   "outputs": [
    {
     "data": {
      "text/html": [
       "<div>\n",
       "<style scoped>\n",
       "    .dataframe tbody tr th:only-of-type {\n",
       "        vertical-align: middle;\n",
       "    }\n",
       "\n",
       "    .dataframe tbody tr th {\n",
       "        vertical-align: top;\n",
       "    }\n",
       "\n",
       "    .dataframe thead th {\n",
       "        text-align: right;\n",
       "    }\n",
       "</style>\n",
       "<table border=\"1\" class=\"dataframe\">\n",
       "  <thead>\n",
       "    <tr style=\"text-align: right;\">\n",
       "      <th></th>\n",
       "      <th>variable</th>\n",
       "      <th>chi2_chisq</th>\n",
       "      <th>chi2_pvalue</th>\n",
       "      <th>chi2_dist</th>\n",
       "      <th>ks_statistic</th>\n",
       "      <th>ks_pvalue</th>\n",
       "      <th>ks_dist</th>\n",
       "      <th>qq_r</th>\n",
       "      <th>qq_rmse</th>\n",
       "      <th>qq_dist</th>\n",
       "    </tr>\n",
       "  </thead>\n",
       "  <tbody>\n",
       "    <tr>\n",
       "      <th>13</th>\n",
       "      <td>compactness error</td>\n",
       "      <td>2.869744</td>\n",
       "      <td>0.999992</td>\n",
       "      <td>lognorm</td>\n",
       "      <td>0.029363</td>\n",
       "      <td>0.699117</td>\n",
       "      <td>lognorm</td>\n",
       "      <td>0.999000</td>\n",
       "      <td>0.000978</td>\n",
       "      <td>lognorm</td>\n",
       "    </tr>\n",
       "    <tr>\n",
       "      <th>23</th>\n",
       "      <td>worst symmetry</td>\n",
       "      <td>4.957541</td>\n",
       "      <td>0.999465</td>\n",
       "      <td>lognorm</td>\n",
       "      <td>0.047914</td>\n",
       "      <td>0.141981</td>\n",
       "      <td>tukeylambda</td>\n",
       "      <td>0.994510</td>\n",
       "      <td>0.007066</td>\n",
       "      <td>lognorm</td>\n",
       "    </tr>\n",
       "    <tr>\n",
       "      <th>11</th>\n",
       "      <td>mean texture</td>\n",
       "      <td>2.105868</td>\n",
       "      <td>0.999999</td>\n",
       "      <td>lognorm</td>\n",
       "      <td>0.016919</td>\n",
       "      <td>0.995991</td>\n",
       "      <td>lognorm</td>\n",
       "      <td>0.999208</td>\n",
       "      <td>0.188160</td>\n",
       "      <td>gamma</td>\n",
       "    </tr>\n",
       "    <tr>\n",
       "      <th>21</th>\n",
       "      <td>worst perimeter</td>\n",
       "      <td>8.267237</td>\n",
       "      <td>0.983774</td>\n",
       "      <td>gamma</td>\n",
       "      <td>0.059028</td>\n",
       "      <td>0.036411</td>\n",
       "      <td>gamma</td>\n",
       "      <td>0.996534</td>\n",
       "      <td>3.069619</td>\n",
       "      <td>gamma</td>\n",
       "    </tr>\n",
       "    <tr>\n",
       "      <th>17</th>\n",
       "      <td>texture error</td>\n",
       "      <td>2.509939</td>\n",
       "      <td>0.999998</td>\n",
       "      <td>lognorm</td>\n",
       "      <td>0.018530</td>\n",
       "      <td>0.987804</td>\n",
       "      <td>lognorm</td>\n",
       "      <td>0.999242</td>\n",
       "      <td>0.024009</td>\n",
       "      <td>chi2</td>\n",
       "    </tr>\n",
       "  </tbody>\n",
       "</table>\n",
       "</div>"
      ],
      "text/plain": [
       "             variable  chi2_chisq  chi2_pvalue chi2_dist  ks_statistic  \\\n",
       "13  compactness error    2.869744     0.999992   lognorm      0.029363   \n",
       "23     worst symmetry    4.957541     0.999465   lognorm      0.047914   \n",
       "11       mean texture    2.105868     0.999999   lognorm      0.016919   \n",
       "21    worst perimeter    8.267237     0.983774     gamma      0.059028   \n",
       "17      texture error    2.509939     0.999998   lognorm      0.018530   \n",
       "\n",
       "    ks_pvalue      ks_dist      qq_r   qq_rmse  qq_dist  \n",
       "13   0.699117      lognorm  0.999000  0.000978  lognorm  \n",
       "23   0.141981  tukeylambda  0.994510  0.007066  lognorm  \n",
       "11   0.995991      lognorm  0.999208  0.188160    gamma  \n",
       "21   0.036411        gamma  0.996534  3.069619    gamma  \n",
       "17   0.987804      lognorm  0.999242  0.024009     chi2  "
      ]
     },
     "execution_count": 18,
     "metadata": {},
     "output_type": "execute_result"
    }
   ],
   "source": [
    "model.info.sample(5)"
   ]
  },
  {
   "cell_type": "markdown",
   "metadata": {},
   "source": [
    "To visualize the distribution, use `plotting` function."
   ]
  },
  {
   "cell_type": "code",
   "execution_count": 27,
   "metadata": {},
   "outputs": [
    {
     "data": {
      "image/png": "[encoded data removed]",
      "text/plain": [
       "<Figure size 468x288 with 1 Axes>"
      ]
     },
     "metadata": {
      "needs_background": "light"
     },
     "output_type": "display_data"
    }
   ],
   "source": [
    "ax = model.plotting(np.random.choice(cols))"
   ]
  },
  {
   "cell_type": "markdown",
   "metadata": {},
   "source": [
    "**<font size=5 color='blue'> Compare2samp </font>**\n",
    "\n",
    "---\n",
    "\n",
    "Determine goodness of fit between two sets of data by using following methods:\n",
    "\n",
    "- Chi-Square Test\n",
    "- Kolmogorov-Smirnov Test (**scipy.stats.ks_2samp**)\n",
    "- Population Stability Index (PSI)\n",
    "\n",
    "**Note**: This function runs on scikit-learn 0.24.2"
   ]
  },
  {
   "cell_type": "code",
   "execution_count": 28,
   "metadata": {},
   "outputs": [],
   "source": [
    "from sklearn.datasets import fetch_openml\n",
    "X, y = fetch_openml(\"titanic\", version=1, as_frame=True, return_X_y=True)\n",
    "random_X = X.sample(200).copy()"
   ]
  },
  {
   "cell_type": "code",
   "execution_count": 29,
   "metadata": {},
   "outputs": [],
   "source": [
    "model = Compare2samp(frac=0.02, max_category=1000).fit(X, random_X)"
   ]
  },
  {
   "cell_type": "markdown",
   "metadata": {},
   "source": [
    "Summary of results"
   ]
  },
  {
   "cell_type": "code",
   "execution_count": 30,
   "metadata": {},
   "outputs": [
    {
     "data": {
      "text/html": [
       "<div>\n",
       "<style scoped>\n",
       "    .dataframe tbody tr th:only-of-type {\n",
       "        vertical-align: middle;\n",
       "    }\n",
       "\n",
       "    .dataframe tbody tr th {\n",
       "        vertical-align: top;\n",
       "    }\n",
       "\n",
       "    .dataframe thead th {\n",
       "        text-align: right;\n",
       "    }\n",
       "</style>\n",
       "<table border=\"1\" class=\"dataframe\">\n",
       "  <thead>\n",
       "    <tr style=\"text-align: right;\">\n",
       "      <th></th>\n",
       "      <th>chi2_chisq</th>\n",
       "      <th>chi2_df</th>\n",
       "      <th>chi2_pvalue</th>\n",
       "      <th>chi2_bins</th>\n",
       "      <th>ks_stat</th>\n",
       "      <th>ks_pvalue</th>\n",
       "      <th>psi</th>\n",
       "      <th>dtype</th>\n",
       "    </tr>\n",
       "    <tr>\n",
       "      <th>variable</th>\n",
       "      <th></th>\n",
       "      <th></th>\n",
       "      <th></th>\n",
       "      <th></th>\n",
       "      <th></th>\n",
       "      <th></th>\n",
       "      <th></th>\n",
       "      <th></th>\n",
       "    </tr>\n",
       "  </thead>\n",
       "  <tbody>\n",
       "    <tr>\n",
       "      <th>pclass</th>\n",
       "      <td>0.286793</td>\n",
       "      <td>2</td>\n",
       "      <td>0.866410</td>\n",
       "      <td>3</td>\n",
       "      <td>0.026635</td>\n",
       "      <td>0.999376</td>\n",
       "      <td>0.002857</td>\n",
       "      <td>int32</td>\n",
       "    </tr>\n",
       "    <tr>\n",
       "      <th>age</th>\n",
       "      <td>5.490865</td>\n",
       "      <td>7</td>\n",
       "      <td>0.600286</td>\n",
       "      <td>8</td>\n",
       "      <td>0.078426</td>\n",
       "      <td>0.223035</td>\n",
       "      <td>0.057509</td>\n",
       "      <td>float32</td>\n",
       "    </tr>\n",
       "    <tr>\n",
       "      <th>sibsp</th>\n",
       "      <td>0.317912</td>\n",
       "      <td>2</td>\n",
       "      <td>0.853034</td>\n",
       "      <td>3</td>\n",
       "      <td>0.024328</td>\n",
       "      <td>0.999885</td>\n",
       "      <td>0.003284</td>\n",
       "      <td>int32</td>\n",
       "    </tr>\n",
       "    <tr>\n",
       "      <th>parch</th>\n",
       "      <td>0.168203</td>\n",
       "      <td>2</td>\n",
       "      <td>0.919338</td>\n",
       "      <td>3</td>\n",
       "      <td>0.009660</td>\n",
       "      <td>1.000000</td>\n",
       "      <td>0.001697</td>\n",
       "      <td>int32</td>\n",
       "    </tr>\n",
       "    <tr>\n",
       "      <th>fare</th>\n",
       "      <td>0.272329</td>\n",
       "      <td>2</td>\n",
       "      <td>0.872699</td>\n",
       "      <td>3</td>\n",
       "      <td>0.045084</td>\n",
       "      <td>0.854358</td>\n",
       "      <td>0.024068</td>\n",
       "      <td>float32</td>\n",
       "    </tr>\n",
       "  </tbody>\n",
       "</table>\n",
       "</div>"
      ],
      "text/plain": [
       "          chi2_chisq  chi2_df  chi2_pvalue  chi2_bins   ks_stat  ks_pvalue  \\\n",
       "variable                                                                     \n",
       "pclass      0.286793        2     0.866410          3  0.026635   0.999376   \n",
       "age         5.490865        7     0.600286          8  0.078426   0.223035   \n",
       "sibsp       0.317912        2     0.853034          3  0.024328   0.999885   \n",
       "parch       0.168203        2     0.919338          3  0.009660   1.000000   \n",
       "fare        0.272329        2     0.872699          3  0.045084   0.854358   \n",
       "\n",
       "               psi    dtype  \n",
       "variable                     \n",
       "pclass    0.002857    int32  \n",
       "age       0.057509  float32  \n",
       "sibsp     0.003284    int32  \n",
       "parch     0.001697    int32  \n",
       "fare      0.024068  float32  "
      ]
     },
     "execution_count": 30,
     "metadata": {},
     "output_type": "execute_result"
    }
   ],
   "source": [
    "model.info.head()"
   ]
  },
  {
   "cell_type": "markdown",
   "metadata": {},
   "source": [
    "To visualize, use `plotting`."
   ]
  },
  {
   "cell_type": "code",
   "execution_count": 31,
   "metadata": {},
   "outputs": [
    {
     "data": {
      "image/png": "[encoded data removed]",
      "text/plain": [
       "<Figure size 468x324 with 1 Axes>"
      ]
     },
     "metadata": {},
     "output_type": "display_data"
    }
   ],
   "source": [
    "var = np.random.choice(list(model.result.keys()))\n",
    "ax = model.plotting(var, max_display=1)"
   ]
  },
  {
   "cell_type": "markdown",
   "metadata": {},
   "source": [
    "**<font size=5 color='blue'> Descriptive </font>**\n",
    "\n",
    "---\n",
    "\n",
    "Descriptive statistics.\n",
    "\n",
    "We use the breast cancer wisconsin dataset (`load_breast_cancer`)."
   ]
  },
  {
   "cell_type": "code",
   "execution_count": 32,
   "metadata": {},
   "outputs": [],
   "source": [
    "X, y = load_breast_cancer(return_X_y=True)\n",
    "cols = load_breast_cancer().feature_names\n",
    "X = pd.DataFrame(X, columns=cols)\n",
    "model = Descriptive().fit(X)"
   ]
  },
  {
   "cell_type": "markdown",
   "metadata": {},
   "source": [
    "Summary of results\n",
    "- **Descriptive.num_info** (numerical)\n",
    "- **Descriptive.str_info** (non-numerical)"
   ]
  },
  {
   "cell_type": "code",
   "execution_count": 33,
   "metadata": {},
   "outputs": [
    {
     "data": {
      "text/html": [
       "<div>\n",
       "<style scoped>\n",
       "    .dataframe tbody tr th:only-of-type {\n",
       "        vertical-align: middle;\n",
       "    }\n",
       "\n",
       "    .dataframe tbody tr th {\n",
       "        vertical-align: top;\n",
       "    }\n",
       "\n",
       "    .dataframe thead th {\n",
       "        text-align: right;\n",
       "    }\n",
       "</style>\n",
       "<table border=\"1\" class=\"dataframe\">\n",
       "  <thead>\n",
       "    <tr style=\"text-align: right;\">\n",
       "      <th>variable</th>\n",
       "      <th>area error</th>\n",
       "      <th>compactness error</th>\n",
       "      <th>concave points error</th>\n",
       "      <th>concavity error</th>\n",
       "      <th>fractal dimension error</th>\n",
       "    </tr>\n",
       "  </thead>\n",
       "  <tbody>\n",
       "    <tr>\n",
       "      <th>unique</th>\n",
       "      <td>528.000000</td>\n",
       "      <td>541.000000</td>\n",
       "      <td>507.000000</td>\n",
       "      <td>533.000000</td>\n",
       "      <td>545.000000</td>\n",
       "    </tr>\n",
       "    <tr>\n",
       "      <th>missing</th>\n",
       "      <td>0.000000</td>\n",
       "      <td>0.000000</td>\n",
       "      <td>0.000000</td>\n",
       "      <td>0.000000</td>\n",
       "      <td>0.000000</td>\n",
       "    </tr>\n",
       "    <tr>\n",
       "      <th>mean</th>\n",
       "      <td>40.337079</td>\n",
       "      <td>0.025478</td>\n",
       "      <td>0.011796</td>\n",
       "      <td>0.031894</td>\n",
       "      <td>0.003795</td>\n",
       "    </tr>\n",
       "    <tr>\n",
       "      <th>std</th>\n",
       "      <td>45.451013</td>\n",
       "      <td>0.017892</td>\n",
       "      <td>0.006165</td>\n",
       "      <td>0.030160</td>\n",
       "      <td>0.002644</td>\n",
       "    </tr>\n",
       "    <tr>\n",
       "      <th>fisher skew</th>\n",
       "      <td>5.432816</td>\n",
       "      <td>1.897202</td>\n",
       "      <td>1.440867</td>\n",
       "      <td>5.096981</td>\n",
       "      <td>3.913617</td>\n",
       "    </tr>\n",
       "  </tbody>\n",
       "</table>\n",
       "</div>"
      ],
      "text/plain": [
       "variable     area error  compactness error  concave points error  \\\n",
       "unique       528.000000         541.000000            507.000000   \n",
       "missing        0.000000           0.000000              0.000000   \n",
       "mean          40.337079           0.025478              0.011796   \n",
       "std           45.451013           0.017892              0.006165   \n",
       "fisher skew    5.432816           1.897202              1.440867   \n",
       "\n",
       "variable     concavity error  fractal dimension error  \n",
       "unique            533.000000               545.000000  \n",
       "missing             0.000000                 0.000000  \n",
       "mean                0.031894                 0.003795  \n",
       "std                 0.030160                 0.002644  \n",
       "fisher skew         5.096981                 3.913617  "
      ]
     },
     "execution_count": 33,
     "metadata": {},
     "output_type": "execute_result"
    }
   ],
   "source": [
    "model.num_info.iloc[:,:5].head()"
   ]
  },
  {
   "cell_type": "markdown",
   "metadata": {},
   "source": [
    "To visualize the distribution, use `plotting` function powered by `descriptive_plot`."
   ]
  },
  {
   "cell_type": "code",
   "execution_count": 34,
   "metadata": {
    "scrolled": false
   },
   "outputs": [
    {
     "data": {
      "image/png": "[encoded data removed]",
      "text/plain": [
       "<Figure size 468x288 with 1 Axes>"
      ]
     },
     "metadata": {
      "needs_background": "light"
     },
     "output_type": "display_data"
    }
   ],
   "source": [
    "ax = model.plotting(np.random.choice(X.columns))"
   ]
  },
  {
   "cell_type": "markdown",
   "metadata": {},
   "source": [
    "Alternatively, we can use `descriptive_plot` to plot the distribution."
   ]
  },
  {
   "cell_type": "code",
   "execution_count": 36,
   "metadata": {
    "scrolled": false
   },
   "outputs": [
    {
     "data": {
      "image/png": "[encoded data removed]",
      "text/plain": [
       "<Figure size 468x288 with 1 Axes>"
      ]
     },
     "metadata": {
      "needs_background": "light"
     },
     "output_type": "display_data"
    }
   ],
   "source": [
    "var = np.random.choice(X.columns)\n",
    "bins = np.histogram(X[var], bins=\"fd\")[1]\n",
    "\n",
    "kwds = {\"m\" : dict(hist_kwds={\"facecolor\": \"none\", \"edgecolor\": \"none\"}), \n",
    "        \"0\" : dict(plot_kwds={\"color\"    : \"none\"}, \n",
    "                   hist_kwds={\"facecolor\": \"#d1ccc0\", \"alpha\" : 0.8}, \n",
    "                   show_title=False, show_stats=False, whis=None),\n",
    "        \"1\" : dict(plot_kwds={\"color\"    : \"none\"}, \n",
    "                   hist_kwds={\"facecolor\": \"none\", \"hatch\": \"///\", \n",
    "                              \"alpha\" : 0.8, \"linewidth\": 0.5, \n",
    "                              \"edgecolor\": \"#ff3838\"},\n",
    "                   show_title=False, show_stats=False, whis=None)}\n",
    "\n",
    "ax = descriptive_plot(X, var, bins, **kwds[\"m\"])\n",
    "ymin, ymax = ax.get_ylim()\n",
    "ax = descriptive_plot(X.loc[y==0], var, bins, **{**kwds[\"0\"],**{\"ax\":ax}})\n",
    "ax = descriptive_plot(X.loc[y==1], var, bins, **{**kwds[\"1\"],**{\"ax\":ax}})\n",
    "patches = np.array([p for p in ax.get_children() if p.__class__.__name__ \n",
    "                    == \"Rectangle\"])[len(bins)::len(bins)]\n",
    "ax.set_ylim(ymin, ymax/0.9)\n",
    "ax.legend(patches, load_breast_cancer().target_names, edgecolor=\"none\", \n",
    "          facecolor=\"none\", borderaxespad=0.5, columnspacing=0.3,\n",
    "          handletextpad=0.5, loc=\"upper left\", prop=dict(size=12))\n",
    "\n",
    "plt.show()"
   ]
  },
  {
   "cell_type": "code",
   "execution_count": null,
   "metadata": {},
   "outputs": [],
   "source": []
  }
 ],
 "metadata": {
  "kernelspec": {
   "display_name": "Python 3",
   "language": "python",
   "name": "python3"
  },
  "language_info": {
   "codemirror_mode": {
    "name": "ipython",
    "version": 3
   },
   "file_extension": ".py",
   "mimetype": "text/x-python",
   "name": "python",
   "nbconvert_exporter": "python",
   "pygments_lexer": "ipython3",
   "version": "3.8.8"
  }
 },
 "nbformat": 4,
 "nbformat_minor": 2
}
