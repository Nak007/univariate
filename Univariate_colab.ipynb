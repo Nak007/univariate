{
 "cells": [
  {
   "cell_type": "markdown",
   "metadata": {},
   "source": [
    "### Google.colab\n",
    "Only execute this cell when use on google colab platform (colab)."
   ]
  },
  {
   "cell_type": "markdown",
   "metadata": {},
   "source": [
    "<table class=\"tfo-notebook-buttons\" align=\"left\">\n",
    "  <td>\n",
    "    <a target=\"_blank\" href=\"https://github.com/Nak007/univariate\">\n",
    "    <img src=\"https://www.tensorflow.org/images/GitHub-Mark-32px.png\" />View source on GitHub</a>\n",
    "  </td>\n",
    "</table>"
   ]
  },
  {
   "cell_type": "code",
   "execution_count": null,
   "metadata": {},
   "outputs": [],
   "source": [
    "# Mount with google drive.\n",
    "from google.colab import drive\n",
    "drive.mount('/content/dirve')\n",
    "\n",
    "# Import other libraries required.\n",
    "!git clone 'http://github.com/Nak007/univariate.git'"
   ]
  },
  {
   "cell_type": "markdown",
   "metadata": {},
   "source": [
    "## Example"
   ]
  },
  {
   "cell_type": "code",
   "execution_count": 23,
   "metadata": {},
   "outputs": [],
   "source": [
    "from sklearn.datasets import load_breast_cancer\n",
    "import pandas as pd, numpy as np, sys\n",
    "from scipy import stats\n",
    "import matplotlib.pyplot as plt\n",
    "pd.options.display.float_format = \"{:,.4f}\".format\n",
    "\n",
    "sys.path.append('/content/univariate')\n",
    "from Univariate import *"
   ]
  },
  {
   "cell_type": "markdown",
   "metadata": {},
   "source": [
    "**<font size=5 color='green'> UnivariateOutliers </font>**\n",
    "\n",
    "---\n",
    "\n",
    "`UnivariateOutliers` determines univariate outliers within one variable at a time. Any identified outlier, is capped to the lower/upper value."
   ]
  },
  {
   "cell_type": "markdown",
   "metadata": {},
   "source": [
    "Use the breast cancer wisconsin dataset (`load_breast_cancer`)."
   ]
  },
  {
   "cell_type": "code",
   "execution_count": 17,
   "metadata": {},
   "outputs": [],
   "source": [
    "X, y = load_breast_cancer(return_X_y=True)\n",
    "cols = load_breast_cancer().feature_names"
   ]
  },
  {
   "cell_type": "markdown",
   "metadata": {},
   "source": [
    "Randomly replace numerical value with `np.nan`."
   ]
  },
  {
   "cell_type": "code",
   "execution_count": 18,
   "metadata": {},
   "outputs": [],
   "source": [
    "np.random.seed(0)\n",
    "NaN = np.random.random(X.shape)<0.1\n",
    "X = pd.DataFrame(np.where(NaN, np.nan, X), columns=cols).iloc[:,:5]"
   ]
  },
  {
   "cell_type": "markdown",
   "metadata": {},
   "source": [
    "Add non-numeric and all-nan fields"
   ]
  },
  {
   "cell_type": "code",
   "execution_count": 19,
   "metadata": {},
   "outputs": [],
   "source": [
    "X['only_str'], X['all_nan'] = 'only_str', np.nan"
   ]
  },
  {
   "cell_type": "markdown",
   "metadata": {},
   "source": [
    "Univariate outlier detection methods\n",
    "- \"**pct**\"   : Percentile\n",
    "- \"**sigma**\" : Z-score\n",
    "- \"**iqr**\"   : Interquartile range\n",
    "- \"**grubb**\" : Grubbs' test (Grubbs 1969 and Stefansky 1972)\n",
    "- \"**gesd**\"  : Generalized Extreme Studentized Deviate\n",
    "- \"**mad**\"   : Median Absolute Deviation\n",
    "- \"**mae**\"   : Mean Absolute Error"
   ]
  },
  {
   "cell_type": "code",
   "execution_count": 20,
   "metadata": {},
   "outputs": [
    {
     "name": "stderr",
     "output_type": "stream",
     "text": [
      "<ipython-input-7-91b693ada3fa>:40: UserWarning: Data variables must be numerical. List of non-numerical variables: ['only_str']\n",
      "  warn(message)\n",
      "<ipython-input-7-91b693ada3fa>:51: UserWarning: Data variables must contain numerical values more than 10 records. List of invalid variables: ['all_nan']\n",
      "  warn(message)\n"
     ]
    }
   ],
   "source": [
    "model = UnivariateOutliers().fit(X)"
   ]
  },
  {
   "cell_type": "markdown",
   "metadata": {},
   "source": [
    "Excluded variables"
   ]
  },
  {
   "cell_type": "code",
   "execution_count": 21,
   "metadata": {},
   "outputs": [
    {
     "data": {
      "text/plain": [
       "{'non_numeric': ['only_str'], 'min_numeric': ['all_nan']}"
      ]
     },
     "execution_count": 21,
     "metadata": {},
     "output_type": "execute_result"
    }
   ],
   "source": [
    "model.exclude"
   ]
  },
  {
   "cell_type": "code",
   "execution_count": 24,
   "metadata": {
    "scrolled": true
   },
   "outputs": [
    {
     "data": {
      "text/html": [
       "<div>\n",
       "<style scoped>\n",
       "    .dataframe tbody tr th:only-of-type {\n",
       "        vertical-align: middle;\n",
       "    }\n",
       "\n",
       "    .dataframe tbody tr th {\n",
       "        vertical-align: top;\n",
       "    }\n",
       "\n",
       "    .dataframe thead th {\n",
       "        text-align: right;\n",
       "    }\n",
       "</style>\n",
       "<table border=\"1\" class=\"dataframe\">\n",
       "  <thead>\n",
       "    <tr style=\"text-align: right;\">\n",
       "      <th></th>\n",
       "      <th>variable</th>\n",
       "      <th>lower</th>\n",
       "      <th>upper</th>\n",
       "      <th>n_lower</th>\n",
       "      <th>n_upper</th>\n",
       "      <th>n_outlier</th>\n",
       "      <th>n_notnan</th>\n",
       "      <th>p_outlier</th>\n",
       "    </tr>\n",
       "  </thead>\n",
       "  <tbody>\n",
       "    <tr>\n",
       "      <th>0</th>\n",
       "      <td>mean radius</td>\n",
       "      <td>5.5756</td>\n",
       "      <td>24.7270</td>\n",
       "      <td>0</td>\n",
       "      <td>5</td>\n",
       "      <td>5</td>\n",
       "      <td>510</td>\n",
       "      <td>0.0098</td>\n",
       "    </tr>\n",
       "    <tr>\n",
       "      <th>1</th>\n",
       "      <td>mean smoothness</td>\n",
       "      <td>0.0548</td>\n",
       "      <td>0.1405</td>\n",
       "      <td>1</td>\n",
       "      <td>3</td>\n",
       "      <td>4</td>\n",
       "      <td>498</td>\n",
       "      <td>0.0080</td>\n",
       "    </tr>\n",
       "    <tr>\n",
       "      <th>2</th>\n",
       "      <td>mean perimeter</td>\n",
       "      <td>35.2002</td>\n",
       "      <td>161.3682</td>\n",
       "      <td>0</td>\n",
       "      <td>5</td>\n",
       "      <td>5</td>\n",
       "      <td>505</td>\n",
       "      <td>0.0099</td>\n",
       "    </tr>\n",
       "    <tr>\n",
       "      <th>3</th>\n",
       "      <td>mean area</td>\n",
       "      <td>-90.4158</td>\n",
       "      <td>1,669.9444</td>\n",
       "      <td>0</td>\n",
       "      <td>12</td>\n",
       "      <td>12</td>\n",
       "      <td>506</td>\n",
       "      <td>0.0237</td>\n",
       "    </tr>\n",
       "    <tr>\n",
       "      <th>4</th>\n",
       "      <td>mean texture</td>\n",
       "      <td>8.1884</td>\n",
       "      <td>32.4571</td>\n",
       "      <td>0</td>\n",
       "      <td>3</td>\n",
       "      <td>3</td>\n",
       "      <td>513</td>\n",
       "      <td>0.0058</td>\n",
       "    </tr>\n",
       "  </tbody>\n",
       "</table>\n",
       "</div>"
      ],
      "text/plain": [
       "          variable    lower      upper  n_lower  n_upper  n_outlier  n_notnan  \\\n",
       "0      mean radius   5.5756    24.7270        0        5          5       510   \n",
       "1  mean smoothness   0.0548     0.1405        1        3          4       498   \n",
       "2   mean perimeter  35.2002   161.3682        0        5          5       505   \n",
       "3        mean area -90.4158 1,669.9444        0       12         12       506   \n",
       "4     mean texture   8.1884    32.4571        0        3          3       513   \n",
       "\n",
       "   p_outlier  \n",
       "0     0.0098  \n",
       "1     0.0080  \n",
       "2     0.0099  \n",
       "3     0.0237  \n",
       "4     0.0058  "
      ]
     },
     "execution_count": 24,
     "metadata": {},
     "output_type": "execute_result"
    }
   ],
   "source": [
    "model.info"
   ]
  },
  {
   "cell_type": "code",
   "execution_count": 25,
   "metadata": {},
   "outputs": [
    {
     "data": {
      "text/html": [
       "<div>\n",
       "<style scoped>\n",
       "    .dataframe tbody tr th:only-of-type {\n",
       "        vertical-align: middle;\n",
       "    }\n",
       "\n",
       "    .dataframe tbody tr th {\n",
       "        vertical-align: top;\n",
       "    }\n",
       "\n",
       "    .dataframe thead th {\n",
       "        text-align: right;\n",
       "    }\n",
       "</style>\n",
       "<table border=\"1\" class=\"dataframe\">\n",
       "  <thead>\n",
       "    <tr style=\"text-align: right;\">\n",
       "      <th></th>\n",
       "      <th>mean radius</th>\n",
       "      <th>mean smoothness</th>\n",
       "      <th>mean perimeter</th>\n",
       "      <th>mean area</th>\n",
       "      <th>mean texture</th>\n",
       "    </tr>\n",
       "  </thead>\n",
       "  <tbody>\n",
       "    <tr>\n",
       "      <th>0</th>\n",
       "      <td>17.9900</td>\n",
       "      <td>0.1184</td>\n",
       "      <td>122.8000</td>\n",
       "      <td>1,001.0000</td>\n",
       "      <td>10.3800</td>\n",
       "    </tr>\n",
       "    <tr>\n",
       "      <th>1</th>\n",
       "      <td>20.5700</td>\n",
       "      <td>NaN</td>\n",
       "      <td>132.9000</td>\n",
       "      <td>1,326.0000</td>\n",
       "      <td>17.7700</td>\n",
       "    </tr>\n",
       "    <tr>\n",
       "      <th>2</th>\n",
       "      <td>19.6900</td>\n",
       "      <td>0.1096</td>\n",
       "      <td>130.0000</td>\n",
       "      <td>1,203.0000</td>\n",
       "      <td>21.2500</td>\n",
       "    </tr>\n",
       "    <tr>\n",
       "      <th>3</th>\n",
       "      <td>11.4200</td>\n",
       "      <td>0.1405</td>\n",
       "      <td>77.5800</td>\n",
       "      <td>386.1000</td>\n",
       "      <td>20.3800</td>\n",
       "    </tr>\n",
       "    <tr>\n",
       "      <th>4</th>\n",
       "      <td>20.2900</td>\n",
       "      <td>0.1003</td>\n",
       "      <td>135.1000</td>\n",
       "      <td>1,297.0000</td>\n",
       "      <td>14.3400</td>\n",
       "    </tr>\n",
       "  </tbody>\n",
       "</table>\n",
       "</div>"
      ],
      "text/plain": [
       "   mean radius  mean smoothness  mean perimeter  mean area  mean texture\n",
       "0      17.9900           0.1184        122.8000 1,001.0000       10.3800\n",
       "1      20.5700              NaN        132.9000 1,326.0000       17.7700\n",
       "2      19.6900           0.1096        130.0000 1,203.0000       21.2500\n",
       "3      11.4200           0.1405         77.5800   386.1000       20.3800\n",
       "4      20.2900           0.1003        135.1000 1,297.0000       14.3400"
      ]
     },
     "execution_count": 25,
     "metadata": {},
     "output_type": "execute_result"
    }
   ],
   "source": [
    "model.capped_X.head(5)"
   ]
  },
  {
   "cell_type": "markdown",
   "metadata": {},
   "source": [
    "**<font size=5 color='green'> chi2_test </font>**\n",
    "\n",
    "---\n",
    "\n",
    "A chi-square goodness of fit test determines whether sample data fits a particular population.\n",
    "\n",
    "Create normal random variable x ~ $N(\\mu,\\sigma)$ = (2, 2)."
   ]
  },
  {
   "cell_type": "code",
   "execution_count": 26,
   "metadata": {},
   "outputs": [],
   "source": [
    "x = stats.norm(loc=2, scale=2).rvs(size=500, random_state=0)"
   ]
  },
  {
   "cell_type": "markdown",
   "metadata": {},
   "source": [
    "$H_{0}$ : data follows a normal distribution.\n",
    "\n",
    "$H_{A}$ : data does not follow a normal distribution.\n",
    "\n",
    "[scipy.stats](https://docs.scipy.org/doc/scipy/reference/stats.html)"
   ]
  },
  {
   "cell_type": "code",
   "execution_count": 27,
   "metadata": {},
   "outputs": [
    {
     "data": {
      "text/plain": [
       "Chi2_Test(chisq=0.4773224553586323, df=9, pvalue=0.9999750744566653, dist='norm', params=(1.9492911213351323, 1.9963135546858515))"
      ]
     },
     "execution_count": 27,
     "metadata": {},
     "output_type": "execute_result"
    }
   ],
   "source": [
    "chi2_test(x, dist=\"norm\")"
   ]
  },
  {
   "cell_type": "markdown",
   "metadata": {},
   "source": [
    "If shape-related parameters are known e.g. $\\mu$ or $\\sigma$ or true population, we can freeze them for the instance of the distribution."
   ]
  },
  {
   "cell_type": "code",
   "execution_count": 28,
   "metadata": {},
   "outputs": [
    {
     "data": {
      "text/plain": [
       "Chi2_Test(chisq=0.5705377388241217, df=9, pvalue=0.9999464408294994, dist='norm', params={'args': (), 'kwds': {'loc': 2, 'scale': 2}})"
      ]
     },
     "execution_count": 28,
     "metadata": {},
     "output_type": "execute_result"
    }
   ],
   "source": [
    "chi2_test(x, dist=stats.norm(loc=2, scale=2))"
   ]
  },
  {
   "cell_type": "markdown",
   "metadata": {},
   "source": [
    "If $\\alpha$ is 5% (0.05), we can not reject the null hypothesis (0.99 > 0.05). Or we can determine the critical value as follows:"
   ]
  },
  {
   "cell_type": "code",
   "execution_count": 29,
   "metadata": {},
   "outputs": [
    {
     "name": "stdout",
     "output_type": "stream",
     "text": [
      "Degrees of freedom = 9\n",
      "Critical Value = 16.9190\n"
     ]
    }
   ],
   "source": [
    "print('Degrees of freedom = {:,.0f}'.format(9))\n",
    "print('Critical Value = {:,.4f}'.format(stats.chi2.ppf(0.95, 9)))"
   ]
  },
  {
   "cell_type": "markdown",
   "metadata": {},
   "source": [
    "We cannot reject the null hypotheis since $\\chi^{2}$ is 0.477, which is less than $\\chi^{2}_{\\alpha=0.05, df=7}$ = 16.919"
   ]
  },
  {
   "cell_type": "markdown",
   "metadata": {},
   "source": [
    "**<font size=5 color='green'> qq_plot </font>**\n",
    "\n",
    "---\n",
    "\n",
    "Standard quantile-quantile (Q-Q) plot (Wilk and Gnanadesikan, 1968) is a probability plot, which is a graphical method for comparing two probability distributions by plotting their quantiles against each other [wikipedia](https://en.wikipedia.org/wiki/Q–Q_plot).\n",
    "\n",
    "Create normal random variable x ~ $N(\\mu,\\sigma)$ = (2, 2)."
   ]
  },
  {
   "cell_type": "code",
   "execution_count": 30,
   "metadata": {},
   "outputs": [],
   "source": [
    "x = stats.norm(loc=2, scale=2).rvs(size=500, random_state=0)"
   ]
  },
  {
   "cell_type": "markdown",
   "metadata": {},
   "source": [
    "See whether `x` follows normal or uniform distribution."
   ]
  },
  {
   "cell_type": "code",
   "execution_count": 31,
   "metadata": {},
   "outputs": [
    {
     "data": {
      "text/plain": [
       "QQ_plot(r=0.9998759256965545, statistic=0.6020687774273007, rmse=0.06358873382864735, dist='norm', params=(1.9492911213351323, 1.9963135546858515))"
      ]
     },
     "execution_count": 31,
     "metadata": {},
     "output_type": "execute_result"
    }
   ],
   "source": [
    "qq_plot(x, dist=\"norm\")"
   ]
  },
  {
   "cell_type": "code",
   "execution_count": 32,
   "metadata": {},
   "outputs": [
    {
     "data": {
      "text/plain": [
       "QQ_plot(r=0.9717582798499491, statistic=0.6020687774273007, rmse=1.239596599563976, dist='uniform', params=(-3.5451855128533003, 10.93763361798046))"
      ]
     },
     "execution_count": 32,
     "metadata": {},
     "output_type": "execute_result"
    }
   ],
   "source": [
    "qq_plot(x, dist=\"uniform\")   "
   ]
  },
  {
   "cell_type": "markdown",
   "metadata": {},
   "source": [
    "In this case, \"**norm**\" returns higher value of `r` along with smaller value of `mse`, thus we could say that a random variable `x`, has a distribution similar to a normal random distribution, $N(\\mu=2,\\sigma=2)$. However, visualizing a Q-Q plot is highly recommended as indicators can sometimes be inadequate to conclude \"**goodness of fit**\" of both distributions."
   ]
  },
  {
   "cell_type": "markdown",
   "metadata": {},
   "source": [
    "**<font size=5 color='green'> ks_test </font>**\n",
    "\n",
    "---\n",
    "\n",
    "The two-sample Kolmogorov-Smirnov test is a general nonparametric method for comparing two distributions by determining the maximum distance from the cumulative distributions, whose function (`s`) can be expressed as:\n",
    "\n",
    "> $s(x,m) = \\frac{f(m,x)}{n(m)}$\n",
    "\n",
    "where f(m,x) is a cumulative frequency of distribution m given x and n(m) is a number of samples of m. The Kolmogorov–Smirnov statistic for two given cumulative distribution function, a and b is:\n",
    "    \n",
    "> $D(a,b) = max|s(x,a) - s(x,b)|$\n",
    "                \n",
    "where $a \\cup b$ = {x: x $\\in$ a or x $\\in$ b}. The null hypothesis or H0 says that both independent samples have the same distribution.\n",
    "\n",
    "Create normal random variable x ~ N(μ,σ) = (2,2)."
   ]
  },
  {
   "cell_type": "code",
   "execution_count": 33,
   "metadata": {},
   "outputs": [],
   "source": [
    "x = stats.norm(loc=2, scale=2).rvs(size=500, random_state=0)"
   ]
  },
  {
   "cell_type": "markdown",
   "metadata": {},
   "source": [
    "See whether x follows normal distribution or not."
   ]
  },
  {
   "cell_type": "code",
   "execution_count": 36,
   "metadata": {},
   "outputs": [
    {
     "data": {
      "text/plain": [
       "KsTest(statistic=0.019977940054987653, pvalue=0.9861531824750324, dist='norm', params=(1.9492911213351323, 1.9963135546858515))"
      ]
     },
     "execution_count": 36,
     "metadata": {},
     "output_type": "execute_result"
    }
   ],
   "source": [
    "ks_test(x, dist=\"norm\")"
   ]
  },
  {
   "cell_type": "markdown",
   "metadata": {},
   "source": [
    "If $\\alpha$ is 5% (0.05), we can not reject the null hypothesis (0.986 > 0.05)."
   ]
  },
  {
   "cell_type": "markdown",
   "metadata": {},
   "source": [
    "**<font size=5 color='green'> MatchDist </font>**\n",
    "\n",
    "---\n",
    "\n",
    "Matching distribution with data by using following methods:\n",
    "- Chi-Square Test\n",
    "- Kolmogorov-Smirnov Test\n",
    "- Q-Q plot"
   ]
  },
  {
   "cell_type": "markdown",
   "metadata": {},
   "source": [
    "Use the breast cancer wisconsin dataset (`load_breast_cancer`)."
   ]
  },
  {
   "cell_type": "code",
   "execution_count": 37,
   "metadata": {},
   "outputs": [],
   "source": [
    "X, y = load_breast_cancer(return_X_y=True)\n",
    "cols = load_breast_cancer().feature_names\n",
    "X = pd.DataFrame(X, columns=cols)"
   ]
  },
  {
   "cell_type": "code",
   "execution_count": 38,
   "metadata": {},
   "outputs": [
    {
     "data": {
      "application/vnd.jupyter.widget-view+json": {
       "model_id": "5722db75f21342ac9e42120b5bfdcb81",
       "version_major": 2,
       "version_minor": 0
      },
      "text/plain": [
       "HBox(children=(HTMLMath(value='Initializing . . .'),))"
      ]
     },
     "metadata": {},
     "output_type": "display_data"
    },
    {
     "name": "stderr",
     "output_type": "stream",
     "text": [
      "/opt/anaconda3/lib/python3.8/site-packages/scipy/stats/_distn_infrastructure.py:1797: RuntimeWarning: divide by zero encountered in log\n",
      "  return log(self._pdf(x, *args))\n",
      "/opt/anaconda3/lib/python3.8/site-packages/scipy/stats/_continuous_distns.py:7901: RuntimeWarning: divide by zero encountered in power\n",
      "  Px = Fx**(lam-1.0) + (np.asarray(1-Fx))**(lam-1.0)\n",
      "/opt/anaconda3/lib/python3.8/site-packages/scipy/stats/_continuous_distns.py:621: RuntimeWarning: invalid value encountered in sqrt\n",
      "  sk = 2*(b-a)*np.sqrt(a + b + 1) / (a + b + 2) / np.sqrt(a*b)\n",
      "/opt/anaconda3/lib/python3.8/site-packages/scipy/stats/_continuous_distns.py:1727: RuntimeWarning: overflow encountered in exp\n",
      "  f = 1 + np.log(b) + sc.xlogy(b - 1.0, x) + xb - np.exp(xb)\n",
      "<ipython-input-5-fdbce2650ff1>:94: RuntimeWarning: divide by zero encountered in true_divide\n",
      "  chisq = ((observe-expect)**2/expect).sum()\n",
      "/opt/anaconda3/lib/python3.8/site-packages/scipy/optimize/minpack.py:175: RuntimeWarning: The iteration is not making good progress, as measured by the \n",
      "  improvement from the last ten iterations.\n",
      "  warnings.warn(msg, RuntimeWarning)\n"
     ]
    }
   ],
   "source": [
    "model = MatchDist().fit(X)"
   ]
  },
  {
   "cell_type": "markdown",
   "metadata": {},
   "source": [
    "Summary of results"
   ]
  },
  {
   "cell_type": "code",
   "execution_count": 39,
   "metadata": {},
   "outputs": [
    {
     "data": {
      "text/html": [
       "<div>\n",
       "<style scoped>\n",
       "    .dataframe tbody tr th:only-of-type {\n",
       "        vertical-align: middle;\n",
       "    }\n",
       "\n",
       "    .dataframe tbody tr th {\n",
       "        vertical-align: top;\n",
       "    }\n",
       "\n",
       "    .dataframe thead th {\n",
       "        text-align: right;\n",
       "    }\n",
       "</style>\n",
       "<table border=\"1\" class=\"dataframe\">\n",
       "  <thead>\n",
       "    <tr style=\"text-align: right;\">\n",
       "      <th></th>\n",
       "      <th>variable</th>\n",
       "      <th>chi2_chisq</th>\n",
       "      <th>chi2_pvalue</th>\n",
       "      <th>chi2_dist</th>\n",
       "      <th>ks_statistic</th>\n",
       "      <th>ks_pvalue</th>\n",
       "      <th>ks_dist</th>\n",
       "      <th>qq_r</th>\n",
       "      <th>qq_rmse</th>\n",
       "      <th>qq_dist</th>\n",
       "    </tr>\n",
       "  </thead>\n",
       "  <tbody>\n",
       "    <tr>\n",
       "      <th>13</th>\n",
       "      <td>mean symmetry</td>\n",
       "      <td>3.4113</td>\n",
       "      <td>1.0000</td>\n",
       "      <td>lognorm</td>\n",
       "      <td>0.0285</td>\n",
       "      <td>0.7331</td>\n",
       "      <td>lognorm</td>\n",
       "      <td>0.9988</td>\n",
       "      <td>0.0014</td>\n",
       "      <td>lognorm</td>\n",
       "    </tr>\n",
       "    <tr>\n",
       "      <th>23</th>\n",
       "      <td>worst smoothness</td>\n",
       "      <td>2.4715</td>\n",
       "      <td>1.0000</td>\n",
       "      <td>tukeylambda</td>\n",
       "      <td>0.0236</td>\n",
       "      <td>0.9019</td>\n",
       "      <td>tukeylambda</td>\n",
       "      <td>0.9992</td>\n",
       "      <td>0.0012</td>\n",
       "      <td>gamma</td>\n",
       "    </tr>\n",
       "    <tr>\n",
       "      <th>11</th>\n",
       "      <td>worst concave points</td>\n",
       "      <td>7.1615</td>\n",
       "      <td>0.9933</td>\n",
       "      <td>gamma</td>\n",
       "      <td>0.0459</td>\n",
       "      <td>0.1754</td>\n",
       "      <td>gamma</td>\n",
       "      <td>0.9978</td>\n",
       "      <td>0.0046</td>\n",
       "      <td>beta</td>\n",
       "    </tr>\n",
       "    <tr>\n",
       "      <th>21</th>\n",
       "      <td>concavity error</td>\n",
       "      <td>6.0467</td>\n",
       "      <td>0.9978</td>\n",
       "      <td>lognorm</td>\n",
       "      <td>0.0278</td>\n",
       "      <td>0.7599</td>\n",
       "      <td>lognorm</td>\n",
       "      <td>0.9994</td>\n",
       "      <td>0.0013</td>\n",
       "      <td>lognorm</td>\n",
       "    </tr>\n",
       "    <tr>\n",
       "      <th>17</th>\n",
       "      <td>compactness error</td>\n",
       "      <td>2.8697</td>\n",
       "      <td>1.0000</td>\n",
       "      <td>lognorm</td>\n",
       "      <td>0.0294</td>\n",
       "      <td>0.6991</td>\n",
       "      <td>lognorm</td>\n",
       "      <td>0.9990</td>\n",
       "      <td>0.0010</td>\n",
       "      <td>lognorm</td>\n",
       "    </tr>\n",
       "  </tbody>\n",
       "</table>\n",
       "</div>"
      ],
      "text/plain": [
       "                variable  chi2_chisq  chi2_pvalue    chi2_dist  ks_statistic  \\\n",
       "13         mean symmetry      3.4113       1.0000      lognorm        0.0285   \n",
       "23      worst smoothness      2.4715       1.0000  tukeylambda        0.0236   \n",
       "11  worst concave points      7.1615       0.9933        gamma        0.0459   \n",
       "21       concavity error      6.0467       0.9978      lognorm        0.0278   \n",
       "17     compactness error      2.8697       1.0000      lognorm        0.0294   \n",
       "\n",
       "    ks_pvalue      ks_dist   qq_r  qq_rmse  qq_dist  \n",
       "13     0.7331      lognorm 0.9988   0.0014  lognorm  \n",
       "23     0.9019  tukeylambda 0.9992   0.0012    gamma  \n",
       "11     0.1754        gamma 0.9978   0.0046     beta  \n",
       "21     0.7599      lognorm 0.9994   0.0013  lognorm  \n",
       "17     0.6991      lognorm 0.9990   0.0010  lognorm  "
      ]
     },
     "execution_count": 39,
     "metadata": {},
     "output_type": "execute_result"
    }
   ],
   "source": [
    "model.info.sample(5)"
   ]
  },
  {
   "cell_type": "markdown",
   "metadata": {},
   "source": [
    "To visualize the distribution, use `plotting` function."
   ]
  },
  {
   "cell_type": "code",
   "execution_count": 49,
   "metadata": {},
   "outputs": [
    {
     "data": {
      "image/png": "[encoded data removed]",
      "text/plain": [
       "<Figure size 468x288 with 1 Axes>"
      ]
     },
     "metadata": {
      "needs_background": "light"
     },
     "output_type": "display_data"
    }
   ],
   "source": [
    "ax = model.plotting(np.random.choice(cols))"
   ]
  },
  {
   "cell_type": "markdown",
   "metadata": {},
   "source": [
    "**<font size=5 color='green'> Compare2samp </font>**\n",
    "\n",
    "---\n",
    "\n",
    "Determine goodness of fit between two sets of data by using following methods:\n",
    "\n",
    "- Chi-Square Test\n",
    "- Kolmogorov-Smirnov Test (**scipy.stats.ks_2samp**)\n",
    "- Population Stability Index (PSI)\n",
    "\n",
    "**Note**: This function runs on scikit-learn 0.24.2"
   ]
  },
  {
   "cell_type": "code",
   "execution_count": 50,
   "metadata": {},
   "outputs": [],
   "source": [
    "from sklearn.datasets import fetch_openml\n",
    "X, y = fetch_openml(\"titanic\", version=1, as_frame=True, return_X_y=True)\n",
    "random_X = X.sample(200).copy()"
   ]
  },
  {
   "cell_type": "code",
   "execution_count": 51,
   "metadata": {},
   "outputs": [],
   "source": [
    "model = Compare2samp(frac=0.02, max_category=1000).fit(X, random_X)"
   ]
  },
  {
   "cell_type": "markdown",
   "metadata": {},
   "source": [
    "Summary of results"
   ]
  },
  {
   "cell_type": "code",
   "execution_count": 52,
   "metadata": {},
   "outputs": [
    {
     "data": {
      "text/html": [
       "<div>\n",
       "<style scoped>\n",
       "    .dataframe tbody tr th:only-of-type {\n",
       "        vertical-align: middle;\n",
       "    }\n",
       "\n",
       "    .dataframe tbody tr th {\n",
       "        vertical-align: top;\n",
       "    }\n",
       "\n",
       "    .dataframe thead th {\n",
       "        text-align: right;\n",
       "    }\n",
       "</style>\n",
       "<table border=\"1\" class=\"dataframe\">\n",
       "  <thead>\n",
       "    <tr style=\"text-align: right;\">\n",
       "      <th></th>\n",
       "      <th>chi2_chisq</th>\n",
       "      <th>chi2_df</th>\n",
       "      <th>chi2_pvalue</th>\n",
       "      <th>chi2_bins</th>\n",
       "      <th>ks_stat</th>\n",
       "      <th>ks_pvalue</th>\n",
       "      <th>psi</th>\n",
       "      <th>dtype</th>\n",
       "    </tr>\n",
       "    <tr>\n",
       "      <th>variable</th>\n",
       "      <th></th>\n",
       "      <th></th>\n",
       "      <th></th>\n",
       "      <th></th>\n",
       "      <th></th>\n",
       "      <th></th>\n",
       "      <th></th>\n",
       "      <th></th>\n",
       "    </tr>\n",
       "  </thead>\n",
       "  <tbody>\n",
       "    <tr>\n",
       "      <th>pclass</th>\n",
       "      <td>0.4157</td>\n",
       "      <td>2</td>\n",
       "      <td>0.8123</td>\n",
       "      <td>3</td>\n",
       "      <td>0.0316</td>\n",
       "      <td>0.9926</td>\n",
       "      <td>0.0041</td>\n",
       "      <td>int32</td>\n",
       "    </tr>\n",
       "    <tr>\n",
       "      <th>age</th>\n",
       "      <td>1.5520</td>\n",
       "      <td>7</td>\n",
       "      <td>0.9805</td>\n",
       "      <td>8</td>\n",
       "      <td>0.0558</td>\n",
       "      <td>0.6298</td>\n",
       "      <td>0.0154</td>\n",
       "      <td>float32</td>\n",
       "    </tr>\n",
       "    <tr>\n",
       "      <th>sibsp</th>\n",
       "      <td>0.1335</td>\n",
       "      <td>2</td>\n",
       "      <td>0.9354</td>\n",
       "      <td>3</td>\n",
       "      <td>0.0107</td>\n",
       "      <td>1.0000</td>\n",
       "      <td>0.0013</td>\n",
       "      <td>int32</td>\n",
       "    </tr>\n",
       "    <tr>\n",
       "      <th>parch</th>\n",
       "      <td>0.1121</td>\n",
       "      <td>2</td>\n",
       "      <td>0.9455</td>\n",
       "      <td>3</td>\n",
       "      <td>0.0097</td>\n",
       "      <td>1.0000</td>\n",
       "      <td>0.0012</td>\n",
       "      <td>int32</td>\n",
       "    </tr>\n",
       "    <tr>\n",
       "      <th>fare</th>\n",
       "      <td>0.1799</td>\n",
       "      <td>2</td>\n",
       "      <td>0.9140</td>\n",
       "      <td>3</td>\n",
       "      <td>0.0635</td>\n",
       "      <td>0.4654</td>\n",
       "      <td>0.0231</td>\n",
       "      <td>float32</td>\n",
       "    </tr>\n",
       "  </tbody>\n",
       "</table>\n",
       "</div>"
      ],
      "text/plain": [
       "          chi2_chisq  chi2_df  chi2_pvalue  chi2_bins  ks_stat  ks_pvalue  \\\n",
       "variable                                                                    \n",
       "pclass        0.4157        2       0.8123          3   0.0316     0.9926   \n",
       "age           1.5520        7       0.9805          8   0.0558     0.6298   \n",
       "sibsp         0.1335        2       0.9354          3   0.0107     1.0000   \n",
       "parch         0.1121        2       0.9455          3   0.0097     1.0000   \n",
       "fare          0.1799        2       0.9140          3   0.0635     0.4654   \n",
       "\n",
       "            psi    dtype  \n",
       "variable                  \n",
       "pclass   0.0041    int32  \n",
       "age      0.0154  float32  \n",
       "sibsp    0.0013    int32  \n",
       "parch    0.0012    int32  \n",
       "fare     0.0231  float32  "
      ]
     },
     "execution_count": 52,
     "metadata": {},
     "output_type": "execute_result"
    }
   ],
   "source": [
    "model.info.head()"
   ]
  },
  {
   "cell_type": "markdown",
   "metadata": {},
   "source": [
    "To visualize, use `plotting`."
   ]
  },
  {
   "cell_type": "code",
   "execution_count": 59,
   "metadata": {},
   "outputs": [
    {
     "data": {
      "image/png": "[encoded data removed]",
      "text/plain": [
       "<Figure size 583.2x324 with 1 Axes>"
      ]
     },
     "metadata": {},
     "output_type": "display_data"
    }
   ],
   "source": [
    "var = np.random.choice(list(model.result.keys()))\n",
    "ax = model.plotting(var, max_display=1)"
   ]
  },
  {
   "cell_type": "markdown",
   "metadata": {},
   "source": [
    "**<font size=5 color='green'> Descriptive </font>**\n",
    "\n",
    "---\n",
    "\n",
    "Descriptive statistics.\n",
    "\n",
    "We use the breast cancer wisconsin dataset (`load_breast_cancer`)."
   ]
  },
  {
   "cell_type": "code",
   "execution_count": 61,
   "metadata": {},
   "outputs": [],
   "source": [
    "X, y = load_breast_cancer(return_X_y=True)\n",
    "X = pd.DataFrame(X, columns=load_breast_cancer().feature_names)"
   ]
  },
  {
   "cell_type": "code",
   "execution_count": 62,
   "metadata": {},
   "outputs": [],
   "source": [
    "model = Descriptive().fit(X)"
   ]
  },
  {
   "cell_type": "markdown",
   "metadata": {},
   "source": [
    "Summary of results\n",
    "- **Descriptive.num_info** (numerical)\n",
    "- **Descriptive.str_info** (non-numerical)"
   ]
  },
  {
   "cell_type": "code",
   "execution_count": 63,
   "metadata": {},
   "outputs": [
    {
     "data": {
      "text/html": [
       "<div>\n",
       "<style scoped>\n",
       "    .dataframe tbody tr th:only-of-type {\n",
       "        vertical-align: middle;\n",
       "    }\n",
       "\n",
       "    .dataframe tbody tr th {\n",
       "        vertical-align: top;\n",
       "    }\n",
       "\n",
       "    .dataframe thead th {\n",
       "        text-align: right;\n",
       "    }\n",
       "</style>\n",
       "<table border=\"1\" class=\"dataframe\">\n",
       "  <thead>\n",
       "    <tr style=\"text-align: right;\">\n",
       "      <th>variable</th>\n",
       "      <th>area error</th>\n",
       "      <th>compactness error</th>\n",
       "      <th>concave points error</th>\n",
       "      <th>concavity error</th>\n",
       "      <th>fractal dimension error</th>\n",
       "    </tr>\n",
       "  </thead>\n",
       "  <tbody>\n",
       "    <tr>\n",
       "      <th>unique</th>\n",
       "      <td>528.0000</td>\n",
       "      <td>541.0000</td>\n",
       "      <td>507.0000</td>\n",
       "      <td>533.0000</td>\n",
       "      <td>545.0000</td>\n",
       "    </tr>\n",
       "    <tr>\n",
       "      <th>missing</th>\n",
       "      <td>0.0000</td>\n",
       "      <td>0.0000</td>\n",
       "      <td>0.0000</td>\n",
       "      <td>0.0000</td>\n",
       "      <td>0.0000</td>\n",
       "    </tr>\n",
       "    <tr>\n",
       "      <th>mean</th>\n",
       "      <td>40.3371</td>\n",
       "      <td>0.0255</td>\n",
       "      <td>0.0118</td>\n",
       "      <td>0.0319</td>\n",
       "      <td>0.0038</td>\n",
       "    </tr>\n",
       "    <tr>\n",
       "      <th>std</th>\n",
       "      <td>45.4510</td>\n",
       "      <td>0.0179</td>\n",
       "      <td>0.0062</td>\n",
       "      <td>0.0302</td>\n",
       "      <td>0.0026</td>\n",
       "    </tr>\n",
       "    <tr>\n",
       "      <th>fisher skew</th>\n",
       "      <td>5.4328</td>\n",
       "      <td>1.8972</td>\n",
       "      <td>1.4409</td>\n",
       "      <td>5.0970</td>\n",
       "      <td>3.9136</td>\n",
       "    </tr>\n",
       "  </tbody>\n",
       "</table>\n",
       "</div>"
      ],
      "text/plain": [
       "variable     area error  compactness error  concave points error  \\\n",
       "unique         528.0000           541.0000              507.0000   \n",
       "missing          0.0000             0.0000                0.0000   \n",
       "mean            40.3371             0.0255                0.0118   \n",
       "std             45.4510             0.0179                0.0062   \n",
       "fisher skew      5.4328             1.8972                1.4409   \n",
       "\n",
       "variable     concavity error  fractal dimension error  \n",
       "unique              533.0000                 545.0000  \n",
       "missing               0.0000                   0.0000  \n",
       "mean                  0.0319                   0.0038  \n",
       "std                   0.0302                   0.0026  \n",
       "fisher skew           5.0970                   3.9136  "
      ]
     },
     "execution_count": 63,
     "metadata": {},
     "output_type": "execute_result"
    }
   ],
   "source": [
    "model.num_info.iloc[:,:5].head()"
   ]
  },
  {
   "cell_type": "markdown",
   "metadata": {},
   "source": [
    "To visualize the distribution, use `plotting` function."
   ]
  },
  {
   "cell_type": "code",
   "execution_count": 66,
   "metadata": {
    "scrolled": false
   },
   "outputs": [
    {
     "data": {
      "image/png": "[encoded data removed]",
      "text/plain": [
       "<Figure size 504x345.6 with 2 Axes>"
      ]
     },
     "metadata": {
      "needs_background": "light"
     },
     "output_type": "display_data"
    }
   ],
   "source": [
    "ax = model.plotting(np.random.choice(X.columns))"
   ]
  },
  {
   "cell_type": "code",
   "execution_count": null,
   "metadata": {},
   "outputs": [],
   "source": []
  }
 ],
 "metadata": {
  "kernelspec": {
   "display_name": "Python 3",
   "language": "python",
   "name": "python3"
  },
  "language_info": {
   "codemirror_mode": {
    "name": "ipython",
    "version": 3
   },
   "file_extension": ".py",
   "mimetype": "text/x-python",
   "name": "python",
   "nbconvert_exporter": "python",
   "pygments_lexer": "ipython3",
   "version": "3.8.8"
  }
 },
 "nbformat": 4,
 "nbformat_minor": 2
}
